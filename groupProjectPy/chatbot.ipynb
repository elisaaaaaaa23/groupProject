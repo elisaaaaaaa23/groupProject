{
 "cells": [
  {
   "cell_type": "code",
   "execution_count": null,
   "id": "5da2a923",
   "metadata": {},
   "outputs": [],
   "source": []
  },
  {
   "cell_type": "code",
   "execution_count": null,
   "id": "da3ec1e9",
   "metadata": {},
   "outputs": [],
   "source": []
  },
  {
   "cell_type": "code",
   "execution_count": 1,
   "id": "bd86e43c",
   "metadata": {},
   "outputs": [],
   "source": [
    "from keras.models import load_model\n",
    "import numpy as np\n",
    "import spacy\n",
    "nlp = spacy.load('en_core_web_sm')\n",
    "\n"
   ]
  },
  {
   "cell_type": "code",
   "execution_count": 2,
   "id": "47e076b2",
   "metadata": {},
   "outputs": [
    {
     "name": "stdout",
     "output_type": "stream",
     "text": [
      "1/1 [==============================] - 1s 656ms/step\n"
     ]
    }
   ],
   "source": [
    "loaded_model = load_model('genre.keras')\n",
    "data =  np.array([[0.7577854671280275,  0.5844875346260388, 0.6666666666666667,  0.6620378116111761,  1.0,  0.24245689655172414,  0.3527918781725889,  7.669902912621361e-06,  0.2762090230444661,  0.7526881720430109, 0.3156202371659047]])\n",
    "x = loaded_model.predict(data)"
   ]
  },
  {
   "cell_type": "code",
   "execution_count": 3,
   "id": "20087835",
   "metadata": {},
   "outputs": [
    {
     "name": "stdout",
     "output_type": "stream",
     "text": [
      "1\n"
     ]
    }
   ],
   "source": [
    "predicted_class = np.argmax(x)\n",
    "print(predicted_class)"
   ]
  },
  {
   "cell_type": "code",
   "execution_count": 4,
   "id": "a57ca6a0",
   "metadata": {},
   "outputs": [
    {
     "name": "stdout",
     "output_type": "stream",
     "text": [
      "{'playlist_genre': {'values': array([0, 1, 2, ..., 1, 4, 5], dtype=int64), 'uniques': Index(['latin', 'pop', 'rock', 'rap', 'r&b', 'edm'], dtype='object')}, 'playlist_subgenre': {'values': array([ 0,  1,  2, ...,  1, 17, 12], dtype=int64), 'uniques': Index(['reggaeton', 'indie poptimism', 'album rock', 'latin hip hop',\n",
      "       'gangster rap', 'trap', 'hip hop', 'latin pop', 'new jack swing',\n",
      "       'big room', 'electro house', 'southern hip hop',\n",
      "       'progressive electro house', 'hip pop', 'permanent wave', 'hard rock',\n",
      "       'urban contemporary', 'neo soul', 'pop edm', 'electropop', 'tropical',\n",
      "       'post-teen pop', 'classic rock', 'dance pop'],\n",
      "      dtype='object')}}\n",
      "pop\n"
     ]
    }
   ],
   "source": [
    "import pickle\n",
    "with open('saved_dictionary.pkl', 'rb') as f:\n",
    "    loaded_dict = pickle.load(f)\n",
    "print(loaded_dict)\n",
    "print(loaded_dict[\"playlist_genre\"][\"uniques\"][predicted_class])"
   ]
  },
  {
   "cell_type": "code",
   "execution_count": 5,
   "id": "7979279b",
   "metadata": {},
   "outputs": [],
   "source": [
    "with open (\"us.txt\",\"r\") as f:\n",
    "    text = f.read()"
   ]
  },
  {
   "cell_type": "code",
   "execution_count": 6,
   "id": "d5fa9a51",
   "metadata": {},
   "outputs": [
    {
     "name": "stdout",
     "output_type": "stream",
     "text": [
      "The United States of America (USA or U.S.A.), commonly known as the United States (US or U.S.) or America, is a country primarily located in North America, between Canada and Mexico. It is a federation of 50 states, a federal capital district (Washington, D.C.), and 326 Indian reservations. Outside the union of states, it asserts sovereignty over five major unincorporated island territories and various uninhabited islands.[j] The country has the world's third-largest land area,[d] largest maritime exclusive economic zone, and the third-largest population, exceeding 334 million.[k]\n",
      "\n",
      "Paleo-Indians migrated across the Bering land bridge more than 12,000 years ago. British colonization led to the first settlement of the Thirteen Colonies in Virginia in 1607. Clashes with the British Crown over taxation and political representation sparked the American Revolution, with the Second Continental Congress formally declaring independence on July 4, 1776. Following its victory in the Revolutionary War (1775â€“1783), the country continued to expand across North America. As more states were admitted, sectional division over slavery led to the secession of the Confederate States of America, which fought the remaining states of the Union during the 1861â€“1865 American Civil War. With the Union's victory and preservation, slavery was abolished nationally. By 1900, the United States had established itself as a great power, becoming the world's largest economy. After Japan's attack on Pearl Harbor in December 1941, the U.S. entered World War II. The aftermath of the war left the U.S. and the Soviet Union as the world's two superpowers and led to the Cold War, during which both countries engaged in a struggle for ideological dominance and international influence. Following the Soviet Union's collapse and the end of the Cold War in 1991, the U.S. emerged as the world's sole superpower.\n",
      "\n",
      "The U.S. national government is a presidential constitutional republic and liberal democracy with three separate branches of government: legislative, executive, and judicial. It has a bicameral national legislature composed of the House of Representatives, a lower house based on population; and the Senate, an upper house based on equal representation for each state. Substantial autonomy is given to states and several territories, with a political culture that emphasizes liberty, equality under the law, individualism, and limited government.\n",
      "\n",
      "One of the world's most developed countries, the United States ranks among the highest in the world in international measures of income, wealth, economic competitiveness, productivity, innovation, human rights, and higher education. It has the highest median income per capita of any non-microstate and possesses by far the largest amount of wealth of any country, with the American economy the largest nominally and accounting for over a quarter of global GDP. The U.S. is a founding member of the World Bank, International Monetary Fund, Organization of American States, NATO, Quadrilateral Security Dialogue, World Health Organization, and a permanent member of the United Nations Security Council.\n"
     ]
    }
   ],
   "source": [
    "print(text)"
   ]
  },
  {
   "cell_type": "code",
   "execution_count": 7,
   "id": "9b623b91",
   "metadata": {},
   "outputs": [],
   "source": [
    "doc = nlp(text)"
   ]
  },
  {
   "cell_type": "code",
   "execution_count": 8,
   "id": "3592aa95",
   "metadata": {},
   "outputs": [
    {
     "name": "stdout",
     "output_type": "stream",
     "text": [
      "The\n",
      "United\n",
      "States\n",
      "of\n",
      "America\n",
      "(\n",
      "USA\n",
      "or\n",
      "U.S.A.\n",
      ")\n"
     ]
    }
   ],
   "source": [
    "for token in doc[:10]:\n",
    "    print(token)"
   ]
  },
  {
   "cell_type": "code",
   "execution_count": 9,
   "id": "cbf6ca27",
   "metadata": {},
   "outputs": [
    {
     "name": "stdout",
     "output_type": "stream",
     "text": [
      "The United States of America (USA or U.S.A.), commonly known as the United States (US or U.S.) or America, is a country primarily located in North America, between Canada and Mexico.\n",
      "It is a federation of 50 states, a federal capital district (Washington, D.C.), and 326 Indian reservations.\n",
      "Outside the union of states, it asserts sovereignty over five major unincorporated island territories and various uninhabited islands.[j]\n",
      "The country has the world's third-largest land area,[d] largest maritime exclusive economic zone, and the third-largest population, exceeding 334 million.[k]\n",
      "\n",
      "Paleo-Indians migrated across the Bering land bridge more than 12,000 years ago.\n",
      "British colonization led to the first settlement of the Thirteen Colonies in Virginia in 1607.\n",
      "Clashes with the British Crown over taxation and political representation sparked the American Revolution, with the Second Continental Congress formally declaring independence on July 4, 1776.\n",
      "Following its victory in the Revolutionary War (1775â€“1783), the country continued to expand across North America.\n",
      "As more states were admitted, sectional division over slavery led to the secession of the Confederate States of America, which fought the remaining states of the Union during the 1861â€“1865 American Civil War.\n",
      "With the Union's victory and preservation, slavery was abolished nationally.\n",
      "By 1900, the United States had established itself as a great power, becoming the world's largest economy.\n",
      "After Japan's attack on Pearl Harbor in December 1941, the U.S. entered World War II.\n",
      "The aftermath of the war left the U.S. and the Soviet Union as the world's two superpowers and led to the Cold War, during which both countries engaged in a struggle for ideological dominance and international influence.\n",
      "Following the Soviet Union's collapse and the end of the Cold War in 1991, the U.S. emerged as the world's sole superpower.\n",
      "\n",
      "\n",
      "The U.S. national government is a presidential constitutional republic and liberal democracy with three separate branches of government: legislative, executive, and judicial.\n",
      "It has a bicameral national legislature composed of the House of Representatives, a lower house based on population; and the Senate, an upper house based on equal representation for each state.\n",
      "Substantial autonomy is given to states and several territories, with a political culture that emphasizes liberty, equality under the law, individualism, and limited government.\n",
      "\n",
      "\n",
      "One of the world's most developed countries, the United States ranks among the highest in the world in international measures of income, wealth, economic competitiveness, productivity, innovation, human rights, and higher education.\n",
      "It has the highest median income per capita of any non-microstate and possesses by far the largest amount of wealth of any country, with the American economy the largest nominally and accounting for over a quarter of global GDP.\n",
      "The U.S. is a founding member of the World Bank, International Monetary Fund, Organization of American States, NATO, Quadrilateral Security Dialogue, World Health Organization, and a permanent member of the United Nations Security Council.\n"
     ]
    }
   ],
   "source": [
    "for sent in doc.sents:\n",
    "    print(sent)"
   ]
  },
  {
   "cell_type": "code",
   "execution_count": 10,
   "id": "7ab9f9bd",
   "metadata": {},
   "outputs": [
    {
     "name": "stdout",
     "output_type": "stream",
     "text": [
      "The United States of America (USA or U.S.A.), commonly known as the United States (US or U.S.) or America, is a country primarily located in North America, between Canada and Mexico.\n"
     ]
    }
   ],
   "source": [
    "sentence1 = list(doc.sents)[0]\n",
    "print(sentence1)"
   ]
  },
  {
   "cell_type": "code",
   "execution_count": 11,
   "id": "39162bfb",
   "metadata": {},
   "outputs": [
    {
     "name": "stdout",
     "output_type": "stream",
     "text": [
      "The United States of America GPE\n",
      "USA GPE\n",
      "U.S.A. GPE\n",
      "the United States GPE\n",
      "US GPE\n",
      "U.S. GPE\n",
      "America GPE\n",
      "North America LOC\n",
      "Canada GPE\n",
      "Mexico GPE\n",
      "50 CARDINAL\n",
      "Washington GPE\n",
      "D.C. GPE\n",
      "326 CARDINAL\n",
      "Indian NORP\n",
      "five CARDINAL\n",
      "third ORDINAL\n",
      "third ORDINAL\n",
      "334 CARDINAL\n",
      "Paleo-Indians NORP\n",
      "more than 12,000 years ago DATE\n",
      "British NORP\n",
      "first ORDINAL\n",
      "the Thirteen Colonies ORG\n",
      "Virginia GPE\n",
      "1607 DATE\n",
      "British NORP\n",
      "Crown PRODUCT\n",
      "the American Revolution EVENT\n",
      "Second ORDINAL\n",
      "July 4, 1776 DATE\n",
      "the Revolutionary War EVENT\n",
      "North America LOC\n",
      "the Confederate States of America GPE\n",
      "American Civil War EVENT\n",
      "Union ORG\n",
      "1900 DATE\n",
      "the United States GPE\n",
      "Japan GPE\n",
      "Pearl Harbor FAC\n",
      "December 1941 DATE\n",
      "U.S. GPE\n",
      "World War II EVENT\n",
      "U.S. GPE\n",
      "the Soviet Union GPE\n",
      "two CARDINAL\n",
      "the Cold War EVENT\n",
      "the Soviet Union's GPE\n",
      "the Cold War EVENT\n",
      "1991 DATE\n",
      "U.S. GPE\n",
      "U.S. GPE\n",
      "three CARDINAL\n",
      "the House of Representatives ORG\n",
      "Senate ORG\n",
      "One CARDINAL\n",
      "the United States GPE\n",
      "American NORP\n",
      "U.S. GPE\n",
      "the World Bank ORG\n",
      "International Monetary Fund ORG\n",
      "Organization of American States ORG\n",
      "NATO ORG\n",
      "Quadrilateral Security Dialogue ORG\n",
      "World Health Organization ORG\n",
      "the United Nations Security Council ORG\n"
     ]
    }
   ],
   "source": [
    "for ent in doc.ents:\n",
    "    print(ent.text,ent.label_)"
   ]
  },
  {
   "cell_type": "code",
   "execution_count": 12,
   "id": "03d8ec20",
   "metadata": {},
   "outputs": [],
   "source": [
    "# pip install spacytextblob\n",
    "# python -m textblob.download_corpora\n",
    "# python -m spacy download en_core_web_sm"
   ]
  },
  {
   "cell_type": "code",
   "execution_count": 13,
   "id": "c5aed8a1",
   "metadata": {},
   "outputs": [
    {
     "name": "stdout",
     "output_type": "stream",
     "text": [
      "0.0\n",
      "0.0\n"
     ]
    }
   ],
   "source": [
    "\n",
    "from spacytextblob.spacytextblob import SpacyTextBlob\n",
    "\n",
    "nlp = spacy.load('en_core_web_sm')\n",
    "nlp.add_pipe('spacytextblob')\n",
    "text = 'give a melancholic but upbeat song.'\n",
    "doc = nlp(text)\n",
    "doc._.blob.polarity                            # Polarity: -0.125\n",
    "doc._.blob.subjectivity                        # Subjectivity: 0.9\n",
    "doc._.blob.sentiment_assessments.assessments   # Assessments: [(['really', 'horrible'], -1.0, 1.0, None), (['worst', '!'], -1.0, 1.0, None), (['really', 'good'], 0.7, 0.6000000000000001, None), (['happy'], 0.8, 1.0, None)]\n",
    "doc._.blob.ngrams()\n",
    "polarity = doc._.blob.polarity\n",
    "subjectivity = doc._.blob.subjectivity\n",
    "print(polarity)\n",
    "print(subjectivity)"
   ]
  },
  {
   "cell_type": "code",
   "execution_count": 19,
   "id": "13f4523c",
   "metadata": {},
   "outputs": [
    {
     "name": "stdout",
     "output_type": "stream",
     "text": [
      "^C\n",
      "^C\n"
     ]
    }
   ],
   "source": [
    "!pip uninstall pysentimiento\n",
    "!pip uninstall torch==2.2.0"
   ]
  },
  {
   "cell_type": "code",
   "execution_count": 21,
   "id": "20ecd08e",
   "metadata": {},
   "outputs": [
    {
     "name": "stdout",
     "output_type": "stream",
     "text": [
      "Defaulting to user installation because normal site-packages is not writeable\n",
      "Collecting text2emotion\n",
      "  Downloading text2emotion-0.0.5-py3-none-any.whl (57 kB)\n",
      "     ---------------------------------------- 57.8/57.8 kB 1.0 MB/s eta 0:00:00\n",
      "Requirement already satisfied: emoji>=0.6.0 in c:\\users\\jonat\\appdata\\roaming\\python\\python310\\site-packages (from text2emotion) (2.10.1)\n",
      "Requirement already satisfied: nltk in d:\\anaconda\\lib\\site-packages (from text2emotion) (3.7)\n",
      "Requirement already satisfied: regex>=2021.8.3 in d:\\anaconda\\lib\\site-packages (from nltk->text2emotion) (2022.7.9)\n",
      "Requirement already satisfied: click in d:\\anaconda\\lib\\site-packages (from nltk->text2emotion) (8.0.4)\n",
      "Requirement already satisfied: tqdm in d:\\anaconda\\lib\\site-packages (from nltk->text2emotion) (4.64.1)\n",
      "Requirement already satisfied: joblib in d:\\anaconda\\lib\\site-packages (from nltk->text2emotion) (1.1.1)\n",
      "Requirement already satisfied: colorama in d:\\anaconda\\lib\\site-packages (from click->nltk->text2emotion) (0.4.6)\n",
      "Installing collected packages: text2emotion\n",
      "Successfully installed text2emotion-0.0.5\n"
     ]
    },
    {
     "name": "stderr",
     "output_type": "stream",
     "text": [
      "[nltk_data] Downloading package stopwords to\n",
      "[nltk_data]     C:\\Users\\jonat\\AppData\\Roaming\\nltk_data...\n",
      "[nltk_data]   Unzipping corpora\\stopwords.zip.\n",
      "[nltk_data] Downloading package punkt to\n",
      "[nltk_data]     C:\\Users\\jonat\\AppData\\Roaming\\nltk_data...\n",
      "[nltk_data]   Package punkt is already up-to-date!\n",
      "[nltk_data] Downloading package wordnet to\n",
      "[nltk_data]     C:\\Users\\jonat\\AppData\\Roaming\\nltk_data...\n",
      "[nltk_data]   Package wordnet is already up-to-date!\n"
     ]
    }
   ],
   "source": [
    "!pip install text2emotion\n",
    "import text2emotion as te"
   ]
  },
  {
   "cell_type": "code",
   "execution_count": 26,
   "id": "22727e6d",
   "metadata": {},
   "outputs": [],
   "source": [
    "text = \"I am desperate for a poo\""
   ]
  },
  {
   "cell_type": "code",
   "execution_count": 29,
   "id": "ddb9618f",
   "metadata": {},
   "outputs": [
    {
     "ename": "AttributeError",
     "evalue": "module 'emoji' has no attribute 'UNICODE_EMOJI'",
     "output_type": "error",
     "traceback": [
      "\u001b[1;31m---------------------------------------------------------------------------\u001b[0m",
      "\u001b[1;31mAttributeError\u001b[0m                            Traceback (most recent call last)",
      "Cell \u001b[1;32mIn[29], line 2\u001b[0m\n\u001b[0;32m      1\u001b[0m \u001b[38;5;66;03m#import emoji\u001b[39;00m\n\u001b[1;32m----> 2\u001b[0m \u001b[43mte\u001b[49m\u001b[38;5;241;43m.\u001b[39;49m\u001b[43mget_emotion\u001b[49m\u001b[43m(\u001b[49m\u001b[43mtext\u001b[49m\u001b[43m)\u001b[49m\n",
      "File \u001b[1;32m~\\AppData\\Roaming\\Python\\Python310\\site-packages\\text2emotion\\__init__.py:2716\u001b[0m, in \u001b[0;36mget_emotion\u001b[1;34m(input)\u001b[0m\n\u001b[0;32m   2713\u001b[0m     \u001b[38;5;66;03m# print(clean_text)\u001b[39;00m\n\u001b[0;32m   2714\u001b[0m     \u001b[38;5;28;01mreturn\u001b[39;00m clean_text\n\u001b[1;32m-> 2716\u001b[0m text \u001b[38;5;241m=\u001b[39m \u001b[43mcleaning\u001b[49m\u001b[43m(\u001b[49m\u001b[38;5;28;43minput\u001b[39;49m\u001b[43m)\u001b[49m\u001b[38;5;241m.\u001b[39msplit()\n\u001b[0;32m   2717\u001b[0m emotion_values \u001b[38;5;241m=\u001b[39m []\n\u001b[0;32m   2718\u001b[0m emotions \u001b[38;5;241m=\u001b[39m {\u001b[38;5;124m\"\u001b[39m\u001b[38;5;124mHappy\u001b[39m\u001b[38;5;124m\"\u001b[39m: \u001b[38;5;241m0\u001b[39m, \u001b[38;5;124m\"\u001b[39m\u001b[38;5;124mAngry\u001b[39m\u001b[38;5;124m\"\u001b[39m: \u001b[38;5;241m0\u001b[39m, \u001b[38;5;124m\"\u001b[39m\u001b[38;5;124mSurprise\u001b[39m\u001b[38;5;124m\"\u001b[39m: \u001b[38;5;241m0\u001b[39m, \u001b[38;5;124m\"\u001b[39m\u001b[38;5;124mSad\u001b[39m\u001b[38;5;124m\"\u001b[39m: \u001b[38;5;241m0\u001b[39m, \u001b[38;5;124m\"\u001b[39m\u001b[38;5;124mFear\u001b[39m\u001b[38;5;124m\"\u001b[39m: \u001b[38;5;241m0\u001b[39m}\n",
      "File \u001b[1;32m~\\AppData\\Roaming\\Python\\Python310\\site-packages\\text2emotion\\__init__.py:2700\u001b[0m, in \u001b[0;36mget_emotion.<locals>.cleaning\u001b[1;34m(text)\u001b[0m\n\u001b[0;32m   2698\u001b[0m \u001b[38;5;28;01mdef\u001b[39;00m \u001b[38;5;21mcleaning\u001b[39m(text):\n\u001b[0;32m   2699\u001b[0m     text \u001b[38;5;241m=\u001b[39m text\u001b[38;5;241m.\u001b[39mlower()\n\u001b[1;32m-> 2700\u001b[0m     text \u001b[38;5;241m=\u001b[39m \u001b[43memojis_extractor\u001b[49m\u001b[43m(\u001b[49m\u001b[43mtext\u001b[49m\u001b[43m)\u001b[49m\n\u001b[0;32m   2701\u001b[0m     text \u001b[38;5;241m=\u001b[39m re\u001b[38;5;241m.\u001b[39msub(\u001b[38;5;124mr\u001b[39m\u001b[38;5;124m'\u001b[39m\u001b[38;5;124mhttp\u001b[39m\u001b[38;5;124m\\\u001b[39m\u001b[38;5;124mS+|www.\u001b[39m\u001b[38;5;124m\\\u001b[39m\u001b[38;5;124mS+\u001b[39m\u001b[38;5;124m'\u001b[39m, \u001b[38;5;124m'\u001b[39m\u001b[38;5;124m'\u001b[39m, text)\n\u001b[0;32m   2702\u001b[0m     text \u001b[38;5;241m=\u001b[39m removing_contradictions(text)\n",
      "File \u001b[1;32m~\\AppData\\Roaming\\Python\\Python310\\site-packages\\text2emotion\\__init__.py:2569\u001b[0m, in \u001b[0;36mget_emotion.<locals>.emojis_extractor\u001b[1;34m(text)\u001b[0m\n\u001b[0;32m   2078\u001b[0m \u001b[38;5;28;01mdef\u001b[39;00m \u001b[38;5;21memojis_extractor\u001b[39m(text):\n\u001b[0;32m   2079\u001b[0m     emoj \u001b[38;5;241m=\u001b[39m {\u001b[38;5;124m'\u001b[39m\u001b[38;5;124mEmoji\u001b[39m\u001b[38;5;124m'\u001b[39m: [\u001b[38;5;124m'\u001b[39m\u001b[38;5;124m👏 🏾\u001b[39m\u001b[38;5;124m'\u001b[39m,\n\u001b[0;32m   2080\u001b[0m                       \u001b[38;5;124m'\u001b[39m\u001b[38;5;124m👏 🏼\u001b[39m\u001b[38;5;124m'\u001b[39m,\n\u001b[0;32m   2081\u001b[0m                       \u001b[38;5;124m'\u001b[39m\u001b[38;5;124m👏 🏽\u001b[39m\u001b[38;5;124m'\u001b[39m,\n\u001b[1;32m   (...)\u001b[0m\n\u001b[0;32m   2567\u001b[0m                         \u001b[38;5;124m'\u001b[39m\u001b[38;5;124mFear\u001b[39m\u001b[38;5;124m'\u001b[39m,\n\u001b[0;32m   2568\u001b[0m                         \u001b[38;5;124m'\u001b[39m\u001b[38;5;124mFear\u001b[39m\u001b[38;5;124m'\u001b[39m]}\n\u001b[1;32m-> 2569\u001b[0m     a \u001b[38;5;241m=\u001b[39m \u001b[38;5;124;43m\"\u001b[39;49m\u001b[38;5;124;43m \u001b[39;49m\u001b[38;5;124;43m\"\u001b[39;49m\u001b[38;5;241;43m.\u001b[39;49m\u001b[43mjoin\u001b[49m\u001b[43m(\u001b[49m\u001b[43mc\u001b[49m\u001b[43m \u001b[49m\u001b[38;5;28;43;01mfor\u001b[39;49;00m\u001b[43m \u001b[49m\u001b[43mc\u001b[49m\u001b[43m \u001b[49m\u001b[38;5;129;43;01min\u001b[39;49;00m\u001b[43m \u001b[49m\u001b[43mtext\u001b[49m\u001b[43m \u001b[49m\u001b[38;5;28;43;01mif\u001b[39;49;00m\u001b[43m \u001b[49m\u001b[43mc\u001b[49m\u001b[43m \u001b[49m\u001b[38;5;129;43;01min\u001b[39;49;00m\u001b[43m \u001b[49m\u001b[43memoji\u001b[49m\u001b[38;5;241;43m.\u001b[39;49m\u001b[43mUNICODE_EMOJI\u001b[49m\u001b[43m)\u001b[49m\u001b[38;5;241m.\u001b[39msplit()\n\u001b[0;32m   2570\u001b[0m     \u001b[38;5;28;01mfor\u001b[39;00m i \u001b[38;5;129;01min\u001b[39;00m a:\n\u001b[0;32m   2571\u001b[0m         \u001b[38;5;28;01mtry\u001b[39;00m:\n",
      "File \u001b[1;32m~\\AppData\\Roaming\\Python\\Python310\\site-packages\\text2emotion\\__init__.py:2569\u001b[0m, in \u001b[0;36m<genexpr>\u001b[1;34m(.0)\u001b[0m\n\u001b[0;32m   2078\u001b[0m \u001b[38;5;28;01mdef\u001b[39;00m \u001b[38;5;21memojis_extractor\u001b[39m(text):\n\u001b[0;32m   2079\u001b[0m     emoj \u001b[38;5;241m=\u001b[39m {\u001b[38;5;124m'\u001b[39m\u001b[38;5;124mEmoji\u001b[39m\u001b[38;5;124m'\u001b[39m: [\u001b[38;5;124m'\u001b[39m\u001b[38;5;124m👏 🏾\u001b[39m\u001b[38;5;124m'\u001b[39m,\n\u001b[0;32m   2080\u001b[0m                       \u001b[38;5;124m'\u001b[39m\u001b[38;5;124m👏 🏼\u001b[39m\u001b[38;5;124m'\u001b[39m,\n\u001b[0;32m   2081\u001b[0m                       \u001b[38;5;124m'\u001b[39m\u001b[38;5;124m👏 🏽\u001b[39m\u001b[38;5;124m'\u001b[39m,\n\u001b[1;32m   (...)\u001b[0m\n\u001b[0;32m   2567\u001b[0m                         \u001b[38;5;124m'\u001b[39m\u001b[38;5;124mFear\u001b[39m\u001b[38;5;124m'\u001b[39m,\n\u001b[0;32m   2568\u001b[0m                         \u001b[38;5;124m'\u001b[39m\u001b[38;5;124mFear\u001b[39m\u001b[38;5;124m'\u001b[39m]}\n\u001b[1;32m-> 2569\u001b[0m     a \u001b[38;5;241m=\u001b[39m \u001b[38;5;124m\"\u001b[39m\u001b[38;5;124m \u001b[39m\u001b[38;5;124m\"\u001b[39m\u001b[38;5;241m.\u001b[39mjoin(c \u001b[38;5;28;01mfor\u001b[39;00m c \u001b[38;5;129;01min\u001b[39;00m text \u001b[38;5;28;01mif\u001b[39;00m c \u001b[38;5;129;01min\u001b[39;00m \u001b[43memoji\u001b[49m\u001b[38;5;241;43m.\u001b[39;49m\u001b[43mUNICODE_EMOJI\u001b[49m)\u001b[38;5;241m.\u001b[39msplit()\n\u001b[0;32m   2570\u001b[0m     \u001b[38;5;28;01mfor\u001b[39;00m i \u001b[38;5;129;01min\u001b[39;00m a:\n\u001b[0;32m   2571\u001b[0m         \u001b[38;5;28;01mtry\u001b[39;00m:\n",
      "\u001b[1;31mAttributeError\u001b[0m: module 'emoji' has no attribute 'UNICODE_EMOJI'"
     ]
    }
   ],
   "source": [
    "#import emoji\n",
    "te.get_emotion(text)"
   ]
  },
  {
   "cell_type": "code",
   "execution_count": 32,
   "id": "41a38be4",
   "metadata": {},
   "outputs": [
    {
     "name": "stderr",
     "output_type": "stream",
     "text": [
      "[nltk_data] Downloading package punkt to\n",
      "[nltk_data]     C:\\Users\\jonat\\AppData\\Roaming\\nltk_data...\n",
      "[nltk_data]   Package punkt is already up-to-date!\n"
     ]
    }
   ],
   "source": [
    "import nltk\n",
    "nltk.download('punkt')\n",
    "from nltk import word_tokenize\n",
    "from nltk.stem.snowball import SnowballStemmer\n",
    "import requests"
   ]
  },
  {
   "cell_type": "code",
   "execution_count": 33,
   "id": "d0078536",
   "metadata": {},
   "outputs": [
    {
     "name": "stdout",
     "output_type": "stream",
     "text": [
      "Defaulting to user installation because normal site-packages is not writeable\n",
      "Collecting LeXmo\n",
      "  Downloading LeXmo-0.1.4-py3-none-any.whl (6.9 kB)\n",
      "Requirement already satisfied: pandas in d:\\anaconda\\lib\\site-packages (from LeXmo) (1.5.3)\n",
      "Requirement already satisfied: nltk in d:\\anaconda\\lib\\site-packages (from LeXmo) (3.7)\n",
      "Requirement already satisfied: requests in d:\\anaconda\\lib\\site-packages (from LeXmo) (2.28.1)\n",
      "Requirement already satisfied: click in d:\\anaconda\\lib\\site-packages (from nltk->LeXmo) (8.0.4)\n",
      "Requirement already satisfied: tqdm in d:\\anaconda\\lib\\site-packages (from nltk->LeXmo) (4.64.1)\n",
      "Requirement already satisfied: regex>=2021.8.3 in d:\\anaconda\\lib\\site-packages (from nltk->LeXmo) (2022.7.9)\n",
      "Requirement already satisfied: joblib in d:\\anaconda\\lib\\site-packages (from nltk->LeXmo) (1.1.1)\n",
      "Requirement already satisfied: pytz>=2020.1 in d:\\anaconda\\lib\\site-packages (from pandas->LeXmo) (2022.7)\n",
      "Requirement already satisfied: python-dateutil>=2.8.1 in d:\\anaconda\\lib\\site-packages (from pandas->LeXmo) (2.8.2)\n",
      "Requirement already satisfied: numpy>=1.21.0 in d:\\anaconda\\lib\\site-packages (from pandas->LeXmo) (1.23.5)\n",
      "Requirement already satisfied: certifi>=2017.4.17 in d:\\anaconda\\lib\\site-packages (from requests->LeXmo) (2022.12.7)\n",
      "Requirement already satisfied: idna<4,>=2.5 in d:\\anaconda\\lib\\site-packages (from requests->LeXmo) (3.4)\n",
      "Requirement already satisfied: urllib3<1.27,>=1.21.1 in d:\\anaconda\\lib\\site-packages (from requests->LeXmo) (1.26.14)\n",
      "Requirement already satisfied: charset-normalizer<3,>=2 in d:\\anaconda\\lib\\site-packages (from requests->LeXmo) (2.0.4)\n",
      "Requirement already satisfied: six>=1.5 in d:\\anaconda\\lib\\site-packages (from python-dateutil>=2.8.1->pandas->LeXmo) (1.16.0)\n",
      "Requirement already satisfied: colorama in d:\\anaconda\\lib\\site-packages (from click->nltk->LeXmo) (0.4.6)\n",
      "Installing collected packages: LeXmo\n",
      "Successfully installed LeXmo-0.1.4\n"
     ]
    },
    {
     "name": "stderr",
     "output_type": "stream",
     "text": [
      "[nltk_data] Downloading package punkt to\n",
      "[nltk_data]     C:\\Users\\jonat\\AppData\\Roaming\\nltk_data...\n",
      "[nltk_data]   Package punkt is already up-to-date!\n"
     ]
    }
   ],
   "source": [
    "!pip install -U LeXmo\n",
    "from LeXmo import LeXmo"
   ]
  },
  {
   "cell_type": "code",
   "execution_count": 37,
   "id": "ec3f7b8c",
   "metadata": {},
   "outputs": [
    {
     "name": "stdout",
     "output_type": "stream",
     "text": [
      "{'text': 'The sun hung high in the clear azure sky, casting its warm embrace over the bustling streets below. Birds chirped melodiously, adding a symphony to the vibrant tapestry of life. Faces adorned with radiant smiles floated by, each step seemingly lighter than the last. Laughter danced in the air, infectious and joyous, weaving its way through the hearts of all who heard it. Everywhere, there was a palpable sense of contentment, a gentle hum of happiness that reverberated through the very essence of existence. In this moment, worries melted away like morning dew under the gentle rays of the sun, leaving behind only a profound sense of gratitude and bliss.', 'anger': 0.0, 'anticipation': 0.032, 'disgust': 0.0, 'fear': 0.0, 'joy': 0.072, 'negative': 0.0, 'positive': 0.08, 'sadness': 0.0, 'surprise': 0.032, 'trust': 0.032}\n",
      "{'anger': 0.0, 'anticipation': 0.032, 'disgust': 0.0, 'fear': 0.0, 'joy': 0.072, 'negative': 0.0, 'positive': 0.08, 'sadness': 0.0, 'surprise': 0.032, 'trust': 0.032}\n"
     ]
    }
   ],
   "source": [
    "\n",
    "\n",
    "t= \"The sun hung high in the clear azure sky, casting its warm embrace over the bustling streets below. Birds chirped melodiously, adding a symphony to the vibrant tapestry of life. Faces adorned with radiant smiles floated by, each step seemingly lighter than the last. Laughter danced in the air, infectious and joyous, weaving its way through the hearts of all who heard it. Everywhere, there was a palpable sense of contentment, a gentle hum of happiness that reverberated through the very essence of existence. In this moment, worries melted away like morning dew under the gentle rays of the sun, leaving behind only a profound sense of gratitude and bliss.\"\n",
    "\n",
    "     \n",
    "\n",
    "emo=LeXmo.LeXmo(t)\n",
    "     \n",
    "\n",
    "print(emo)\n",
    "     \n",
    "\n",
    "\n",
    "emo.pop('text', None)\n",
    "     \n",
    "print(emo)\n",
    "     \n",
    "\n",
    "\n",
    "\n",
    "     \n"
   ]
  },
  {
   "cell_type": "code",
   "execution_count": null,
   "id": "cf081744",
   "metadata": {},
   "outputs": [],
   "source": []
  }
 ],
 "metadata": {
  "kernelspec": {
   "display_name": "Python 3 (ipykernel)",
   "language": "python",
   "name": "python3"
  },
  "language_info": {
   "codemirror_mode": {
    "name": "ipython",
    "version": 3
   },
   "file_extension": ".py",
   "mimetype": "text/x-python",
   "name": "python",
   "nbconvert_exporter": "python",
   "pygments_lexer": "ipython3",
   "version": "3.10.9"
  }
 },
 "nbformat": 4,
 "nbformat_minor": 5
}
