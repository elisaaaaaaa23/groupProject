{
 "cells": [
  {
   "cell_type": "markdown",
   "metadata": {},
   "source": [
    "# 1. Import needed libraries"
   ]
  },
  {
   "cell_type": "code",
   "execution_count": 1,
   "metadata": {
    "_cell_guid": "b1076dfc-b9ad-4769-8c92-a6c4dae69d19",
    "_uuid": "8f2839f25d086af736a60e9eeb907d3b93b6e0e5",
    "execution": {
     "iopub.execute_input": "2024-02-06T20:17:08.525826Z",
     "iopub.status.busy": "2024-02-06T20:17:08.525196Z",
     "iopub.status.idle": "2024-02-06T20:17:12.603462Z",
     "shell.execute_reply": "2024-02-06T20:17:12.602448Z",
     "shell.execute_reply.started": "2024-02-06T20:17:08.525791Z"
    }
   },
   "outputs": [],
   "source": [
    "import pandas as pd\n",
    "import numpy as np\n",
    "import matplotlib.pyplot as plt\n",
    "import seaborn as sns\n",
    "from sklearn.metrics import classification_report, confusion_matrix\n",
    "from tensorflow.keras.preprocessing.text import Tokenizer\n",
    "from tensorflow.keras.optimizers import Adamax\n",
    "from tensorflow.keras.metrics import Precision, Recall\n",
    "from tensorflow.keras.layers import Dense, ReLU\n",
    "from tensorflow.keras.layers import Embedding, BatchNormalization, Concatenate\n",
    "from tensorflow.keras.layers import Conv1D, GlobalMaxPooling1D, Dropout\n",
    "from tensorflow.keras.models import Sequential, Model\n",
    "from sklearn.preprocessing import LabelEncoder\n",
    "from tensorflow.keras.preprocessing.sequence import pad_sequences\n",
    "from keras.utils import to_categorical"
   ]
  },
  {
   "cell_type": "markdown",
   "metadata": {},
   "source": [
    "# 2. Read and Preprocessing data"
   ]
  },
  {
   "cell_type": "markdown",
   "metadata": {},
   "source": [
    "### 2.1 Read data"
   ]
  },
  {
   "cell_type": "code",
   "execution_count": 2,
   "metadata": {
    "execution": {
     "iopub.execute_input": "2024-02-06T20:17:12.605659Z",
     "iopub.status.busy": "2024-02-06T20:17:12.605098Z",
     "iopub.status.idle": "2024-02-06T20:17:12.657112Z",
     "shell.execute_reply": "2024-02-06T20:17:12.656295Z",
     "shell.execute_reply.started": "2024-02-06T20:17:12.605630Z"
    }
   },
   "outputs": [
    {
     "ename": "FileNotFoundError",
     "evalue": "[Errno 2] No such file or directory: '/kaggle/input/emotions-dataset-for-nlp/train.txt'",
     "output_type": "error",
     "traceback": [
      "\u001b[1;31m---------------------------------------------------------------------------\u001b[0m",
      "\u001b[1;31mFileNotFoundError\u001b[0m                         Traceback (most recent call last)",
      "Cell \u001b[1;32mIn[2], line 1\u001b[0m\n\u001b[1;32m----> 1\u001b[0m df \u001b[38;5;241m=\u001b[39m \u001b[43mpd\u001b[49m\u001b[38;5;241;43m.\u001b[39;49m\u001b[43mread_csv\u001b[49m\u001b[43m(\u001b[49m\u001b[38;5;124;43m\"\u001b[39;49m\u001b[38;5;124;43m/kaggle/input/emotions-dataset-for-nlp/train.txt\u001b[39;49m\u001b[38;5;124;43m\"\u001b[39;49m\u001b[43m,\u001b[49m\n\u001b[0;32m      2\u001b[0m \u001b[43m                 \u001b[49m\u001b[43mdelimiter\u001b[49m\u001b[38;5;241;43m=\u001b[39;49m\u001b[38;5;124;43m'\u001b[39;49m\u001b[38;5;124;43m;\u001b[39;49m\u001b[38;5;124;43m'\u001b[39;49m\u001b[43m,\u001b[49m\u001b[43m \u001b[49m\u001b[43mheader\u001b[49m\u001b[38;5;241;43m=\u001b[39;49m\u001b[38;5;28;43;01mNone\u001b[39;49;00m\u001b[43m,\u001b[49m\u001b[43m \u001b[49m\u001b[43mnames\u001b[49m\u001b[38;5;241;43m=\u001b[39;49m\u001b[43m[\u001b[49m\u001b[38;5;124;43m'\u001b[39;49m\u001b[38;5;124;43msentence\u001b[39;49m\u001b[38;5;124;43m'\u001b[39;49m\u001b[43m,\u001b[49m\u001b[38;5;124;43m'\u001b[39;49m\u001b[38;5;124;43mlabel\u001b[39;49m\u001b[38;5;124;43m'\u001b[39;49m\u001b[43m]\u001b[49m\u001b[43m)\u001b[49m\n\u001b[0;32m      4\u001b[0m val_df \u001b[38;5;241m=\u001b[39m pd\u001b[38;5;241m.\u001b[39mread_csv(\u001b[38;5;124m\"\u001b[39m\u001b[38;5;124m/kaggle/input/emotions-dataset-for-nlp/val.txt\u001b[39m\u001b[38;5;124m\"\u001b[39m,\n\u001b[0;32m      5\u001b[0m                  delimiter\u001b[38;5;241m=\u001b[39m\u001b[38;5;124m'\u001b[39m\u001b[38;5;124m;\u001b[39m\u001b[38;5;124m'\u001b[39m, header\u001b[38;5;241m=\u001b[39m\u001b[38;5;28;01mNone\u001b[39;00m, names\u001b[38;5;241m=\u001b[39m[\u001b[38;5;124m'\u001b[39m\u001b[38;5;124msentence\u001b[39m\u001b[38;5;124m'\u001b[39m,\u001b[38;5;124m'\u001b[39m\u001b[38;5;124mlabel\u001b[39m\u001b[38;5;124m'\u001b[39m])\n\u001b[0;32m      7\u001b[0m ts_df \u001b[38;5;241m=\u001b[39m pd\u001b[38;5;241m.\u001b[39mread_csv(\u001b[38;5;124m\"\u001b[39m\u001b[38;5;124m/kaggle/input/emotions-dataset-for-nlp/test.txt\u001b[39m\u001b[38;5;124m\"\u001b[39m,\n\u001b[0;32m      8\u001b[0m                  delimiter\u001b[38;5;241m=\u001b[39m\u001b[38;5;124m'\u001b[39m\u001b[38;5;124m;\u001b[39m\u001b[38;5;124m'\u001b[39m, header\u001b[38;5;241m=\u001b[39m\u001b[38;5;28;01mNone\u001b[39;00m, names\u001b[38;5;241m=\u001b[39m[\u001b[38;5;124m'\u001b[39m\u001b[38;5;124msentence\u001b[39m\u001b[38;5;124m'\u001b[39m,\u001b[38;5;124m'\u001b[39m\u001b[38;5;124mlabel\u001b[39m\u001b[38;5;124m'\u001b[39m])\n",
      "File \u001b[1;32mD:\\anaconda\\lib\\site-packages\\pandas\\util\\_decorators.py:211\u001b[0m, in \u001b[0;36mdeprecate_kwarg.<locals>._deprecate_kwarg.<locals>.wrapper\u001b[1;34m(*args, **kwargs)\u001b[0m\n\u001b[0;32m    209\u001b[0m     \u001b[38;5;28;01melse\u001b[39;00m:\n\u001b[0;32m    210\u001b[0m         kwargs[new_arg_name] \u001b[38;5;241m=\u001b[39m new_arg_value\n\u001b[1;32m--> 211\u001b[0m \u001b[38;5;28;01mreturn\u001b[39;00m func(\u001b[38;5;241m*\u001b[39margs, \u001b[38;5;241m*\u001b[39m\u001b[38;5;241m*\u001b[39mkwargs)\n",
      "File \u001b[1;32mD:\\anaconda\\lib\\site-packages\\pandas\\util\\_decorators.py:331\u001b[0m, in \u001b[0;36mdeprecate_nonkeyword_arguments.<locals>.decorate.<locals>.wrapper\u001b[1;34m(*args, **kwargs)\u001b[0m\n\u001b[0;32m    325\u001b[0m \u001b[38;5;28;01mif\u001b[39;00m \u001b[38;5;28mlen\u001b[39m(args) \u001b[38;5;241m>\u001b[39m num_allow_args:\n\u001b[0;32m    326\u001b[0m     warnings\u001b[38;5;241m.\u001b[39mwarn(\n\u001b[0;32m    327\u001b[0m         msg\u001b[38;5;241m.\u001b[39mformat(arguments\u001b[38;5;241m=\u001b[39m_format_argument_list(allow_args)),\n\u001b[0;32m    328\u001b[0m         \u001b[38;5;167;01mFutureWarning\u001b[39;00m,\n\u001b[0;32m    329\u001b[0m         stacklevel\u001b[38;5;241m=\u001b[39mfind_stack_level(),\n\u001b[0;32m    330\u001b[0m     )\n\u001b[1;32m--> 331\u001b[0m \u001b[38;5;28;01mreturn\u001b[39;00m func(\u001b[38;5;241m*\u001b[39margs, \u001b[38;5;241m*\u001b[39m\u001b[38;5;241m*\u001b[39mkwargs)\n",
      "File \u001b[1;32mD:\\anaconda\\lib\\site-packages\\pandas\\io\\parsers\\readers.py:950\u001b[0m, in \u001b[0;36mread_csv\u001b[1;34m(filepath_or_buffer, sep, delimiter, header, names, index_col, usecols, squeeze, prefix, mangle_dupe_cols, dtype, engine, converters, true_values, false_values, skipinitialspace, skiprows, skipfooter, nrows, na_values, keep_default_na, na_filter, verbose, skip_blank_lines, parse_dates, infer_datetime_format, keep_date_col, date_parser, dayfirst, cache_dates, iterator, chunksize, compression, thousands, decimal, lineterminator, quotechar, quoting, doublequote, escapechar, comment, encoding, encoding_errors, dialect, error_bad_lines, warn_bad_lines, on_bad_lines, delim_whitespace, low_memory, memory_map, float_precision, storage_options)\u001b[0m\n\u001b[0;32m    935\u001b[0m kwds_defaults \u001b[38;5;241m=\u001b[39m _refine_defaults_read(\n\u001b[0;32m    936\u001b[0m     dialect,\n\u001b[0;32m    937\u001b[0m     delimiter,\n\u001b[1;32m   (...)\u001b[0m\n\u001b[0;32m    946\u001b[0m     defaults\u001b[38;5;241m=\u001b[39m{\u001b[38;5;124m\"\u001b[39m\u001b[38;5;124mdelimiter\u001b[39m\u001b[38;5;124m\"\u001b[39m: \u001b[38;5;124m\"\u001b[39m\u001b[38;5;124m,\u001b[39m\u001b[38;5;124m\"\u001b[39m},\n\u001b[0;32m    947\u001b[0m )\n\u001b[0;32m    948\u001b[0m kwds\u001b[38;5;241m.\u001b[39mupdate(kwds_defaults)\n\u001b[1;32m--> 950\u001b[0m \u001b[38;5;28;01mreturn\u001b[39;00m \u001b[43m_read\u001b[49m\u001b[43m(\u001b[49m\u001b[43mfilepath_or_buffer\u001b[49m\u001b[43m,\u001b[49m\u001b[43m \u001b[49m\u001b[43mkwds\u001b[49m\u001b[43m)\u001b[49m\n",
      "File \u001b[1;32mD:\\anaconda\\lib\\site-packages\\pandas\\io\\parsers\\readers.py:605\u001b[0m, in \u001b[0;36m_read\u001b[1;34m(filepath_or_buffer, kwds)\u001b[0m\n\u001b[0;32m    602\u001b[0m _validate_names(kwds\u001b[38;5;241m.\u001b[39mget(\u001b[38;5;124m\"\u001b[39m\u001b[38;5;124mnames\u001b[39m\u001b[38;5;124m\"\u001b[39m, \u001b[38;5;28;01mNone\u001b[39;00m))\n\u001b[0;32m    604\u001b[0m \u001b[38;5;66;03m# Create the parser.\u001b[39;00m\n\u001b[1;32m--> 605\u001b[0m parser \u001b[38;5;241m=\u001b[39m TextFileReader(filepath_or_buffer, \u001b[38;5;241m*\u001b[39m\u001b[38;5;241m*\u001b[39mkwds)\n\u001b[0;32m    607\u001b[0m \u001b[38;5;28;01mif\u001b[39;00m chunksize \u001b[38;5;129;01mor\u001b[39;00m iterator:\n\u001b[0;32m    608\u001b[0m     \u001b[38;5;28;01mreturn\u001b[39;00m parser\n",
      "File \u001b[1;32mD:\\anaconda\\lib\\site-packages\\pandas\\io\\parsers\\readers.py:1442\u001b[0m, in \u001b[0;36mTextFileReader.__init__\u001b[1;34m(self, f, engine, **kwds)\u001b[0m\n\u001b[0;32m   1439\u001b[0m     \u001b[38;5;28mself\u001b[39m\u001b[38;5;241m.\u001b[39moptions[\u001b[38;5;124m\"\u001b[39m\u001b[38;5;124mhas_index_names\u001b[39m\u001b[38;5;124m\"\u001b[39m] \u001b[38;5;241m=\u001b[39m kwds[\u001b[38;5;124m\"\u001b[39m\u001b[38;5;124mhas_index_names\u001b[39m\u001b[38;5;124m\"\u001b[39m]\n\u001b[0;32m   1441\u001b[0m \u001b[38;5;28mself\u001b[39m\u001b[38;5;241m.\u001b[39mhandles: IOHandles \u001b[38;5;241m|\u001b[39m \u001b[38;5;28;01mNone\u001b[39;00m \u001b[38;5;241m=\u001b[39m \u001b[38;5;28;01mNone\u001b[39;00m\n\u001b[1;32m-> 1442\u001b[0m \u001b[38;5;28mself\u001b[39m\u001b[38;5;241m.\u001b[39m_engine \u001b[38;5;241m=\u001b[39m \u001b[38;5;28;43mself\u001b[39;49m\u001b[38;5;241;43m.\u001b[39;49m\u001b[43m_make_engine\u001b[49m\u001b[43m(\u001b[49m\u001b[43mf\u001b[49m\u001b[43m,\u001b[49m\u001b[43m \u001b[49m\u001b[38;5;28;43mself\u001b[39;49m\u001b[38;5;241;43m.\u001b[39;49m\u001b[43mengine\u001b[49m\u001b[43m)\u001b[49m\n",
      "File \u001b[1;32mD:\\anaconda\\lib\\site-packages\\pandas\\io\\parsers\\readers.py:1735\u001b[0m, in \u001b[0;36mTextFileReader._make_engine\u001b[1;34m(self, f, engine)\u001b[0m\n\u001b[0;32m   1733\u001b[0m     \u001b[38;5;28;01mif\u001b[39;00m \u001b[38;5;124m\"\u001b[39m\u001b[38;5;124mb\u001b[39m\u001b[38;5;124m\"\u001b[39m \u001b[38;5;129;01mnot\u001b[39;00m \u001b[38;5;129;01min\u001b[39;00m mode:\n\u001b[0;32m   1734\u001b[0m         mode \u001b[38;5;241m+\u001b[39m\u001b[38;5;241m=\u001b[39m \u001b[38;5;124m\"\u001b[39m\u001b[38;5;124mb\u001b[39m\u001b[38;5;124m\"\u001b[39m\n\u001b[1;32m-> 1735\u001b[0m \u001b[38;5;28mself\u001b[39m\u001b[38;5;241m.\u001b[39mhandles \u001b[38;5;241m=\u001b[39m \u001b[43mget_handle\u001b[49m\u001b[43m(\u001b[49m\n\u001b[0;32m   1736\u001b[0m \u001b[43m    \u001b[49m\u001b[43mf\u001b[49m\u001b[43m,\u001b[49m\n\u001b[0;32m   1737\u001b[0m \u001b[43m    \u001b[49m\u001b[43mmode\u001b[49m\u001b[43m,\u001b[49m\n\u001b[0;32m   1738\u001b[0m \u001b[43m    \u001b[49m\u001b[43mencoding\u001b[49m\u001b[38;5;241;43m=\u001b[39;49m\u001b[38;5;28;43mself\u001b[39;49m\u001b[38;5;241;43m.\u001b[39;49m\u001b[43moptions\u001b[49m\u001b[38;5;241;43m.\u001b[39;49m\u001b[43mget\u001b[49m\u001b[43m(\u001b[49m\u001b[38;5;124;43m\"\u001b[39;49m\u001b[38;5;124;43mencoding\u001b[39;49m\u001b[38;5;124;43m\"\u001b[39;49m\u001b[43m,\u001b[49m\u001b[43m \u001b[49m\u001b[38;5;28;43;01mNone\u001b[39;49;00m\u001b[43m)\u001b[49m\u001b[43m,\u001b[49m\n\u001b[0;32m   1739\u001b[0m \u001b[43m    \u001b[49m\u001b[43mcompression\u001b[49m\u001b[38;5;241;43m=\u001b[39;49m\u001b[38;5;28;43mself\u001b[39;49m\u001b[38;5;241;43m.\u001b[39;49m\u001b[43moptions\u001b[49m\u001b[38;5;241;43m.\u001b[39;49m\u001b[43mget\u001b[49m\u001b[43m(\u001b[49m\u001b[38;5;124;43m\"\u001b[39;49m\u001b[38;5;124;43mcompression\u001b[39;49m\u001b[38;5;124;43m\"\u001b[39;49m\u001b[43m,\u001b[49m\u001b[43m \u001b[49m\u001b[38;5;28;43;01mNone\u001b[39;49;00m\u001b[43m)\u001b[49m\u001b[43m,\u001b[49m\n\u001b[0;32m   1740\u001b[0m \u001b[43m    \u001b[49m\u001b[43mmemory_map\u001b[49m\u001b[38;5;241;43m=\u001b[39;49m\u001b[38;5;28;43mself\u001b[39;49m\u001b[38;5;241;43m.\u001b[39;49m\u001b[43moptions\u001b[49m\u001b[38;5;241;43m.\u001b[39;49m\u001b[43mget\u001b[49m\u001b[43m(\u001b[49m\u001b[38;5;124;43m\"\u001b[39;49m\u001b[38;5;124;43mmemory_map\u001b[39;49m\u001b[38;5;124;43m\"\u001b[39;49m\u001b[43m,\u001b[49m\u001b[43m \u001b[49m\u001b[38;5;28;43;01mFalse\u001b[39;49;00m\u001b[43m)\u001b[49m\u001b[43m,\u001b[49m\n\u001b[0;32m   1741\u001b[0m \u001b[43m    \u001b[49m\u001b[43mis_text\u001b[49m\u001b[38;5;241;43m=\u001b[39;49m\u001b[43mis_text\u001b[49m\u001b[43m,\u001b[49m\n\u001b[0;32m   1742\u001b[0m \u001b[43m    \u001b[49m\u001b[43merrors\u001b[49m\u001b[38;5;241;43m=\u001b[39;49m\u001b[38;5;28;43mself\u001b[39;49m\u001b[38;5;241;43m.\u001b[39;49m\u001b[43moptions\u001b[49m\u001b[38;5;241;43m.\u001b[39;49m\u001b[43mget\u001b[49m\u001b[43m(\u001b[49m\u001b[38;5;124;43m\"\u001b[39;49m\u001b[38;5;124;43mencoding_errors\u001b[39;49m\u001b[38;5;124;43m\"\u001b[39;49m\u001b[43m,\u001b[49m\u001b[43m \u001b[49m\u001b[38;5;124;43m\"\u001b[39;49m\u001b[38;5;124;43mstrict\u001b[39;49m\u001b[38;5;124;43m\"\u001b[39;49m\u001b[43m)\u001b[49m\u001b[43m,\u001b[49m\n\u001b[0;32m   1743\u001b[0m \u001b[43m    \u001b[49m\u001b[43mstorage_options\u001b[49m\u001b[38;5;241;43m=\u001b[39;49m\u001b[38;5;28;43mself\u001b[39;49m\u001b[38;5;241;43m.\u001b[39;49m\u001b[43moptions\u001b[49m\u001b[38;5;241;43m.\u001b[39;49m\u001b[43mget\u001b[49m\u001b[43m(\u001b[49m\u001b[38;5;124;43m\"\u001b[39;49m\u001b[38;5;124;43mstorage_options\u001b[39;49m\u001b[38;5;124;43m\"\u001b[39;49m\u001b[43m,\u001b[49m\u001b[43m \u001b[49m\u001b[38;5;28;43;01mNone\u001b[39;49;00m\u001b[43m)\u001b[49m\u001b[43m,\u001b[49m\n\u001b[0;32m   1744\u001b[0m \u001b[43m\u001b[49m\u001b[43m)\u001b[49m\n\u001b[0;32m   1745\u001b[0m \u001b[38;5;28;01massert\u001b[39;00m \u001b[38;5;28mself\u001b[39m\u001b[38;5;241m.\u001b[39mhandles \u001b[38;5;129;01mis\u001b[39;00m \u001b[38;5;129;01mnot\u001b[39;00m \u001b[38;5;28;01mNone\u001b[39;00m\n\u001b[0;32m   1746\u001b[0m f \u001b[38;5;241m=\u001b[39m \u001b[38;5;28mself\u001b[39m\u001b[38;5;241m.\u001b[39mhandles\u001b[38;5;241m.\u001b[39mhandle\n",
      "File \u001b[1;32mD:\\anaconda\\lib\\site-packages\\pandas\\io\\common.py:856\u001b[0m, in \u001b[0;36mget_handle\u001b[1;34m(path_or_buf, mode, encoding, compression, memory_map, is_text, errors, storage_options)\u001b[0m\n\u001b[0;32m    851\u001b[0m \u001b[38;5;28;01melif\u001b[39;00m \u001b[38;5;28misinstance\u001b[39m(handle, \u001b[38;5;28mstr\u001b[39m):\n\u001b[0;32m    852\u001b[0m     \u001b[38;5;66;03m# Check whether the filename is to be opened in binary mode.\u001b[39;00m\n\u001b[0;32m    853\u001b[0m     \u001b[38;5;66;03m# Binary mode does not support 'encoding' and 'newline'.\u001b[39;00m\n\u001b[0;32m    854\u001b[0m     \u001b[38;5;28;01mif\u001b[39;00m ioargs\u001b[38;5;241m.\u001b[39mencoding \u001b[38;5;129;01mand\u001b[39;00m \u001b[38;5;124m\"\u001b[39m\u001b[38;5;124mb\u001b[39m\u001b[38;5;124m\"\u001b[39m \u001b[38;5;129;01mnot\u001b[39;00m \u001b[38;5;129;01min\u001b[39;00m ioargs\u001b[38;5;241m.\u001b[39mmode:\n\u001b[0;32m    855\u001b[0m         \u001b[38;5;66;03m# Encoding\u001b[39;00m\n\u001b[1;32m--> 856\u001b[0m         handle \u001b[38;5;241m=\u001b[39m \u001b[38;5;28;43mopen\u001b[39;49m\u001b[43m(\u001b[49m\n\u001b[0;32m    857\u001b[0m \u001b[43m            \u001b[49m\u001b[43mhandle\u001b[49m\u001b[43m,\u001b[49m\n\u001b[0;32m    858\u001b[0m \u001b[43m            \u001b[49m\u001b[43mioargs\u001b[49m\u001b[38;5;241;43m.\u001b[39;49m\u001b[43mmode\u001b[49m\u001b[43m,\u001b[49m\n\u001b[0;32m    859\u001b[0m \u001b[43m            \u001b[49m\u001b[43mencoding\u001b[49m\u001b[38;5;241;43m=\u001b[39;49m\u001b[43mioargs\u001b[49m\u001b[38;5;241;43m.\u001b[39;49m\u001b[43mencoding\u001b[49m\u001b[43m,\u001b[49m\n\u001b[0;32m    860\u001b[0m \u001b[43m            \u001b[49m\u001b[43merrors\u001b[49m\u001b[38;5;241;43m=\u001b[39;49m\u001b[43merrors\u001b[49m\u001b[43m,\u001b[49m\n\u001b[0;32m    861\u001b[0m \u001b[43m            \u001b[49m\u001b[43mnewline\u001b[49m\u001b[38;5;241;43m=\u001b[39;49m\u001b[38;5;124;43m\"\u001b[39;49m\u001b[38;5;124;43m\"\u001b[39;49m\u001b[43m,\u001b[49m\n\u001b[0;32m    862\u001b[0m \u001b[43m        \u001b[49m\u001b[43m)\u001b[49m\n\u001b[0;32m    863\u001b[0m     \u001b[38;5;28;01melse\u001b[39;00m:\n\u001b[0;32m    864\u001b[0m         \u001b[38;5;66;03m# Binary mode\u001b[39;00m\n\u001b[0;32m    865\u001b[0m         handle \u001b[38;5;241m=\u001b[39m \u001b[38;5;28mopen\u001b[39m(handle, ioargs\u001b[38;5;241m.\u001b[39mmode)\n",
      "\u001b[1;31mFileNotFoundError\u001b[0m: [Errno 2] No such file or directory: '/kaggle/input/emotions-dataset-for-nlp/train.txt'"
     ]
    }
   ],
   "source": [
    "df = pd.read_csv(\"/kaggle/input/emotions-dataset-for-nlp/train.txt\",\n",
    "                 delimiter=';', header=None, names=['sentence','label'])\n",
    "\n",
    "val_df = pd.read_csv(\"/kaggle/input/emotions-dataset-for-nlp/val.txt\",\n",
    "                 delimiter=';', header=None, names=['sentence','label'])\n",
    "\n",
    "ts_df = pd.read_csv(\"/kaggle/input/emotions-dataset-for-nlp/test.txt\",\n",
    "                 delimiter=';', header=None, names=['sentence','label'])"
   ]
  },
  {
   "cell_type": "code",
   "execution_count": null,
   "metadata": {
    "execution": {
     "iopub.execute_input": "2024-02-06T20:17:28.838794Z",
     "iopub.status.busy": "2024-02-06T20:17:28.838353Z",
     "iopub.status.idle": "2024-02-06T20:17:28.853340Z",
     "shell.execute_reply": "2024-02-06T20:17:28.852252Z",
     "shell.execute_reply.started": "2024-02-06T20:17:28.838761Z"
    }
   },
   "outputs": [],
   "source": [
    "df"
   ]
  },
  {
   "cell_type": "code",
   "execution_count": null,
   "metadata": {
    "execution": {
     "iopub.execute_input": "2024-02-06T20:17:31.101920Z",
     "iopub.status.busy": "2024-02-06T20:17:31.101425Z",
     "iopub.status.idle": "2024-02-06T20:17:31.109948Z",
     "shell.execute_reply": "2024-02-06T20:17:31.108954Z",
     "shell.execute_reply.started": "2024-02-06T20:17:31.101891Z"
    }
   },
   "outputs": [],
   "source": [
    "df['label'].unique()"
   ]
  },
  {
   "cell_type": "code",
   "execution_count": null,
   "metadata": {
    "execution": {
     "iopub.execute_input": "2024-02-06T20:17:31.462979Z",
     "iopub.status.busy": "2024-02-06T20:17:31.462109Z",
     "iopub.status.idle": "2024-02-06T20:17:31.472241Z",
     "shell.execute_reply": "2024-02-06T20:17:31.471268Z",
     "shell.execute_reply.started": "2024-02-06T20:17:31.462946Z"
    }
   },
   "outputs": [],
   "source": [
    "df.label.value_counts()"
   ]
  },
  {
   "cell_type": "code",
   "execution_count": null,
   "metadata": {
    "execution": {
     "iopub.execute_input": "2024-02-06T20:17:31.886975Z",
     "iopub.status.busy": "2024-02-06T20:17:31.886545Z",
     "iopub.status.idle": "2024-02-06T20:17:32.134031Z",
     "shell.execute_reply": "2024-02-06T20:17:32.132452Z",
     "shell.execute_reply.started": "2024-02-06T20:17:31.886944Z"
    }
   },
   "outputs": [],
   "source": [
    "# Count label distributions\n",
    "label_counts = df['label'].value_counts()\n",
    "light_colors = sns.husl_palette(n_colors=len(label_counts))\n",
    "sns.set(style=\"whitegrid\")\n",
    "plt.figure(figsize=(8, 8))\n",
    "plt.pie(label_counts, labels=label_counts.index, autopct='%1.1f%%', startangle=140, colors=light_colors)\n",
    "plt.title('Emotion Train Distribution')\n",
    "plt.show()"
   ]
  },
  {
   "cell_type": "code",
   "execution_count": null,
   "metadata": {
    "execution": {
     "iopub.execute_input": "2024-02-06T20:17:38.310571Z",
     "iopub.status.busy": "2024-02-06T20:17:38.309643Z",
     "iopub.status.idle": "2024-02-06T20:17:38.723126Z",
     "shell.execute_reply": "2024-02-06T20:17:38.721482Z",
     "shell.execute_reply.started": "2024-02-06T20:17:38.310537Z"
    }
   },
   "outputs": [],
   "source": [
    "label_counts = val_df['label'].value_counts()\n",
    "light_colors = sns.husl_palette(n_colors=len(label_counts))\n",
    "sns.set(style=\"whitegrid\")\n",
    "plt.figure(figsize=(8, 8))\n",
    "plt.pie(label_counts, labels=label_counts.index, autopct='%1.1f%%', startangle=140, colors=light_colors)\n",
    "plt.title('Emotion Valid Distribution')\n",
    "plt.show()"
   ]
  },
  {
   "cell_type": "code",
   "execution_count": null,
   "metadata": {
    "execution": {
     "iopub.execute_input": "2024-02-06T20:17:38.760126Z",
     "iopub.status.busy": "2024-02-06T20:17:38.759272Z",
     "iopub.status.idle": "2024-02-06T20:17:38.991312Z",
     "shell.execute_reply": "2024-02-06T20:17:38.989877Z",
     "shell.execute_reply.started": "2024-02-06T20:17:38.760094Z"
    }
   },
   "outputs": [],
   "source": [
    "# Count label distributions\n",
    "label_counts = ts_df['label'].value_counts()\n",
    "light_colors = sns.husl_palette(n_colors=len(label_counts))\n",
    "sns.set(style=\"whitegrid\")\n",
    "plt.figure(figsize=(8, 8))\n",
    "plt.pie(label_counts, labels=label_counts.index, autopct='%1.1f%%', startangle=140, colors=light_colors)\n",
    "plt.title('Emotion Test Distribution')\n",
    "plt.show()"
   ]
  },
  {
   "cell_type": "markdown",
   "metadata": {},
   "source": [
    "### Since we have an unbalanced dataset, we can remove both surprise and love labels since they are the lowest and reduce each label to make the dataset balanced."
   ]
  },
  {
   "cell_type": "code",
   "execution_count": null,
   "metadata": {
    "execution": {
     "iopub.execute_input": "2024-02-06T20:25:39.100709Z",
     "iopub.status.busy": "2024-02-06T20:25:39.100271Z",
     "iopub.status.idle": "2024-02-06T20:25:39.123669Z",
     "shell.execute_reply": "2024-02-06T20:25:39.122599Z",
     "shell.execute_reply.started": "2024-02-06T20:25:39.100676Z"
    }
   },
   "outputs": [],
   "source": [
    "df = df[~df['label'].str.contains('love')]\n",
    "df = df[~df['label'].str.contains('surprise')]"
   ]
  },
  {
   "cell_type": "code",
   "execution_count": null,
   "metadata": {
    "execution": {
     "iopub.execute_input": "2024-02-06T20:25:40.312936Z",
     "iopub.status.busy": "2024-02-06T20:25:40.312551Z",
     "iopub.status.idle": "2024-02-06T20:25:40.337684Z",
     "shell.execute_reply": "2024-02-06T20:25:40.336886Z",
     "shell.execute_reply.started": "2024-02-06T20:25:40.312905Z"
    }
   },
   "outputs": [],
   "source": [
    "joy = df[df['label'] == 'joy'].sample(n=2200, random_state=20)\n",
    "sad = df[df['label'] == 'sadness'].sample(n=2200, random_state=20)\n",
    "fear = df[df['label'] == 'fear'].sample(n=1937, random_state=20)\n",
    "anger = df[df['label'] == 'anger'].sample(n=2159, random_state=20)\n",
    "\n",
    "df_sampled = pd.concat([joy, sad, fear, anger])\n",
    "\n",
    "df = df_sampled.sample(frac=1, random_state=20).reset_index(drop=True)"
   ]
  },
  {
   "cell_type": "code",
   "execution_count": null,
   "metadata": {
    "execution": {
     "iopub.execute_input": "2024-02-06T20:25:54.310374Z",
     "iopub.status.busy": "2024-02-06T20:25:54.309463Z",
     "iopub.status.idle": "2024-02-06T20:25:54.318557Z",
     "shell.execute_reply": "2024-02-06T20:25:54.317528Z",
     "shell.execute_reply.started": "2024-02-06T20:25:54.310338Z"
    }
   },
   "outputs": [],
   "source": [
    "df.label.value_counts()"
   ]
  },
  {
   "cell_type": "code",
   "execution_count": null,
   "metadata": {
    "execution": {
     "iopub.execute_input": "2024-02-06T20:26:01.650864Z",
     "iopub.status.busy": "2024-02-06T20:26:01.649925Z",
     "iopub.status.idle": "2024-02-06T20:26:01.861786Z",
     "shell.execute_reply": "2024-02-06T20:26:01.860155Z",
     "shell.execute_reply.started": "2024-02-06T20:26:01.650829Z"
    }
   },
   "outputs": [],
   "source": [
    "# Count label distributions\n",
    "label_counts = df['label'].value_counts()\n",
    "light_colors = sns.husl_palette(n_colors=len(label_counts))\n",
    "sns.set(style=\"whitegrid\")\n",
    "plt.figure(figsize=(8, 8))\n",
    "plt.pie(label_counts, labels=label_counts.index, autopct='%1.1f%%', startangle=140, colors=light_colors)\n",
    "plt.title('Emotion Label Distribution')\n",
    "plt.show()"
   ]
  },
  {
   "cell_type": "code",
   "execution_count": null,
   "metadata": {
    "execution": {
     "iopub.execute_input": "2024-02-06T20:26:06.233610Z",
     "iopub.status.busy": "2024-02-06T20:26:06.232901Z",
     "iopub.status.idle": "2024-02-06T20:26:06.241211Z",
     "shell.execute_reply": "2024-02-06T20:26:06.240290Z",
     "shell.execute_reply.started": "2024-02-06T20:26:06.233577Z"
    }
   },
   "outputs": [],
   "source": [
    "val_df.label.value_counts()"
   ]
  },
  {
   "cell_type": "code",
   "execution_count": null,
   "metadata": {
    "execution": {
     "iopub.execute_input": "2024-02-06T20:26:06.960356Z",
     "iopub.status.busy": "2024-02-06T20:26:06.959489Z",
     "iopub.status.idle": "2024-02-06T20:26:06.969694Z",
     "shell.execute_reply": "2024-02-06T20:26:06.968461Z",
     "shell.execute_reply.started": "2024-02-06T20:26:06.960323Z"
    }
   },
   "outputs": [],
   "source": [
    "val_df = val_df[~val_df['label'].str.contains('love')]\n",
    "val_df = val_df[~val_df['label'].str.contains('surprise')]"
   ]
  },
  {
   "cell_type": "code",
   "execution_count": null,
   "metadata": {
    "execution": {
     "iopub.execute_input": "2024-02-06T20:26:15.876178Z",
     "iopub.status.busy": "2024-02-06T20:26:15.875356Z",
     "iopub.status.idle": "2024-02-06T20:26:15.892221Z",
     "shell.execute_reply": "2024-02-06T20:26:15.891155Z",
     "shell.execute_reply.started": "2024-02-06T20:26:15.876137Z"
    }
   },
   "outputs": [],
   "source": [
    "joy = val_df[val_df['label'] == 'joy'].sample(n=250, random_state=20)\n",
    "sad = val_df[val_df['label'] == 'sadness'].sample(n=250, random_state=20)\n",
    "fear = val_df[val_df['label'] == 'fear'].sample(n=212, random_state=20)\n",
    "anger = val_df[val_df['label'] == 'anger'].sample(n=275, random_state=20)\n",
    "\n",
    "df_sampled = pd.concat([joy, sad, fear, anger])\n",
    "\n",
    "val_df = df_sampled.sample(frac=1, random_state=20).reset_index(drop=True)"
   ]
  },
  {
   "cell_type": "code",
   "execution_count": null,
   "metadata": {
    "execution": {
     "iopub.execute_input": "2024-02-06T20:26:17.904260Z",
     "iopub.status.busy": "2024-02-06T20:26:17.903876Z",
     "iopub.status.idle": "2024-02-06T20:26:18.112221Z",
     "shell.execute_reply": "2024-02-06T20:26:18.110698Z",
     "shell.execute_reply.started": "2024-02-06T20:26:17.904229Z"
    }
   },
   "outputs": [],
   "source": [
    "# Count label distributions\n",
    "label_counts = val_df['label'].value_counts()\n",
    "light_colors = sns.husl_palette(n_colors=len(label_counts))\n",
    "sns.set(style=\"whitegrid\")\n",
    "plt.figure(figsize=(8, 8))\n",
    "plt.pie(label_counts, labels=label_counts.index, autopct='%1.1f%%', startangle=140, colors=light_colors)\n",
    "plt.title('Emotion Valid Distribution')\n",
    "plt.show()"
   ]
  },
  {
   "cell_type": "code",
   "execution_count": null,
   "metadata": {
    "execution": {
     "iopub.execute_input": "2024-02-06T20:26:20.855239Z",
     "iopub.status.busy": "2024-02-06T20:26:20.854524Z",
     "iopub.status.idle": "2024-02-06T20:26:20.862804Z",
     "shell.execute_reply": "2024-02-06T20:26:20.861938Z",
     "shell.execute_reply.started": "2024-02-06T20:26:20.855205Z"
    }
   },
   "outputs": [],
   "source": [
    "ts_df.label.value_counts()"
   ]
  },
  {
   "cell_type": "code",
   "execution_count": null,
   "metadata": {
    "execution": {
     "iopub.execute_input": "2024-02-06T20:26:21.317734Z",
     "iopub.status.busy": "2024-02-06T20:26:21.317343Z",
     "iopub.status.idle": "2024-02-06T20:26:21.327216Z",
     "shell.execute_reply": "2024-02-06T20:26:21.326184Z",
     "shell.execute_reply.started": "2024-02-06T20:26:21.317707Z"
    }
   },
   "outputs": [],
   "source": [
    "ts_df = ts_df[~ts_df['label'].str.contains('love')]\n",
    "ts_df = ts_df[~ts_df['label'].str.contains('surprise')]"
   ]
  },
  {
   "cell_type": "code",
   "execution_count": null,
   "metadata": {
    "execution": {
     "iopub.execute_input": "2024-02-06T20:26:21.682374Z",
     "iopub.status.busy": "2024-02-06T20:26:21.681428Z",
     "iopub.status.idle": "2024-02-06T20:26:21.696158Z",
     "shell.execute_reply": "2024-02-06T20:26:21.695033Z",
     "shell.execute_reply.started": "2024-02-06T20:26:21.682338Z"
    }
   },
   "outputs": [],
   "source": [
    "joy = ts_df[ts_df['label'] == 'joy'].sample(n=250, random_state=20)\n",
    "sad = ts_df[ts_df['label'] == 'sadness'].sample(n=250, random_state=20)\n",
    "fear = ts_df[ts_df['label'] == 'fear'].sample(n=224, random_state=20)\n",
    "anger = ts_df[ts_df['label'] == 'anger'].sample(n=275, random_state=20)\n",
    "\n",
    "df_sampled = pd.concat([joy, sad, fear, anger])\n",
    "\n",
    "ts_df = df_sampled.sample(frac=1, random_state=20).reset_index(drop=True)"
   ]
  },
  {
   "cell_type": "code",
   "execution_count": null,
   "metadata": {
    "execution": {
     "iopub.execute_input": "2024-02-06T20:26:22.105883Z",
     "iopub.status.busy": "2024-02-06T20:26:22.105109Z",
     "iopub.status.idle": "2024-02-06T20:26:22.260509Z",
     "shell.execute_reply": "2024-02-06T20:26:22.259473Z",
     "shell.execute_reply.started": "2024-02-06T20:26:22.105850Z"
    }
   },
   "outputs": [],
   "source": [
    "# Count label distributions\n",
    "label_counts = ts_df['label'].value_counts()\n",
    "light_colors = sns.husl_palette(n_colors=len(label_counts))\n",
    "sns.set(style=\"whitegrid\")\n",
    "plt.figure(figsize=(8, 8))\n",
    "plt.pie(label_counts, labels=label_counts.index, autopct='%1.1f%%', startangle=140, colors=light_colors)\n",
    "plt.title('Emotion Test Distribution')\n",
    "plt.show()"
   ]
  },
  {
   "cell_type": "markdown",
   "metadata": {},
   "source": [
    "### 2.2 Split data into X, y"
   ]
  },
  {
   "cell_type": "code",
   "execution_count": null,
   "metadata": {
    "execution": {
     "iopub.execute_input": "2024-02-06T20:26:26.206203Z",
     "iopub.status.busy": "2024-02-06T20:26:26.205827Z",
     "iopub.status.idle": "2024-02-06T20:26:26.211746Z",
     "shell.execute_reply": "2024-02-06T20:26:26.210690Z",
     "shell.execute_reply.started": "2024-02-06T20:26:26.206173Z"
    }
   },
   "outputs": [],
   "source": [
    "tr_text = df['sentence']\n",
    "tr_label = df['label']\n",
    "\n",
    "val_text = val_df['sentence']\n",
    "val_label = val_df['label']\n",
    "\n",
    "ts_text = ts_df['sentence']\n",
    "ts_label = ts_df['label']"
   ]
  },
  {
   "cell_type": "markdown",
   "metadata": {},
   "source": [
    "### 2.3 Encoding"
   ]
  },
  {
   "cell_type": "code",
   "execution_count": null,
   "metadata": {
    "execution": {
     "iopub.execute_input": "2024-02-06T20:26:30.394296Z",
     "iopub.status.busy": "2024-02-06T20:26:30.393340Z",
     "iopub.status.idle": "2024-02-06T20:26:30.402242Z",
     "shell.execute_reply": "2024-02-06T20:26:30.401108Z",
     "shell.execute_reply.started": "2024-02-06T20:26:30.394255Z"
    }
   },
   "outputs": [],
   "source": [
    "encoder = LabelEncoder()\n",
    "tr_label = encoder.fit_transform(tr_label)\n",
    "val_label = encoder.transform(val_label)\n",
    "ts_label = encoder.transform(ts_label)"
   ]
  },
  {
   "cell_type": "markdown",
   "metadata": {},
   "source": [
    "### 2.4 Text preprocessing"
   ]
  },
  {
   "cell_type": "code",
   "execution_count": null,
   "metadata": {
    "execution": {
     "iopub.execute_input": "2024-02-06T20:26:32.402140Z",
     "iopub.status.busy": "2024-02-06T20:26:32.401731Z",
     "iopub.status.idle": "2024-02-06T20:26:32.883669Z",
     "shell.execute_reply": "2024-02-06T20:26:32.882662Z",
     "shell.execute_reply.started": "2024-02-06T20:26:32.402111Z"
    }
   },
   "outputs": [],
   "source": [
    "tokenizer = Tokenizer(num_words=10000)\n",
    "tokenizer.fit_on_texts(tr_text) \n",
    "                            \n",
    "sequences = tokenizer.texts_to_sequences(tr_text)\n",
    "\n",
    "tr_x = pad_sequences(sequences, maxlen=50) \n",
    "tr_y = to_categorical(tr_label)\n",
    "\n",
    "sequences = tokenizer.texts_to_sequences(val_text)\n",
    "val_x = pad_sequences(sequences, maxlen=50)\n",
    "val_y = to_categorical(val_label)\n",
    "\n",
    "sequences = tokenizer.texts_to_sequences(ts_text)\n",
    "ts_x = pad_sequences(sequences, maxlen=50)\n",
    "ts_y = to_categorical(ts_label)"
   ]
  },
  {
   "cell_type": "markdown",
   "metadata": {},
   "source": [
    "# 3. Building deep learning model"
   ]
  },
  {
   "cell_type": "code",
   "execution_count": null,
   "metadata": {
    "execution": {
     "iopub.execute_input": "2024-02-06T20:26:37.768987Z",
     "iopub.status.busy": "2024-02-06T20:26:37.768545Z",
     "iopub.status.idle": "2024-02-06T20:26:37.773632Z",
     "shell.execute_reply": "2024-02-06T20:26:37.772627Z",
     "shell.execute_reply.started": "2024-02-06T20:26:37.768956Z"
    }
   },
   "outputs": [],
   "source": [
    "max_words = 10000\n",
    "max_len = 50\n",
    "embedding_dim = 32"
   ]
  },
  {
   "cell_type": "markdown",
   "metadata": {},
   "source": [
    "### 3.1 Model architecture"
   ]
  },
  {
   "cell_type": "code",
   "execution_count": null,
   "metadata": {
    "execution": {
     "iopub.execute_input": "2024-02-06T20:26:45.799601Z",
     "iopub.status.busy": "2024-02-06T20:26:45.798446Z",
     "iopub.status.idle": "2024-02-06T20:26:46.862724Z",
     "shell.execute_reply": "2024-02-06T20:26:46.861836Z",
     "shell.execute_reply.started": "2024-02-06T20:26:45.799562Z"
    }
   },
   "outputs": [],
   "source": [
    "# Branch 1\n",
    "branch1 = Sequential()\n",
    "branch1.add(Embedding(max_words, embedding_dim, input_length=max_len))\n",
    "branch1.add(Conv1D(64, 3, padding='same', activation='relu'))\n",
    "branch1.add(BatchNormalization())\n",
    "branch1.add(ReLU())\n",
    "branch1.add(Dropout(0.5))\n",
    "branch1.add(GlobalMaxPooling1D())\n",
    "\n",
    "# Branch 2\n",
    "branch2 = Sequential()\n",
    "branch2.add(Embedding(max_words, embedding_dim, input_length=max_len))\n",
    "branch2.add(Conv1D(64, 3, padding='same', activation='relu'))\n",
    "branch2.add(BatchNormalization())\n",
    "branch2.add(ReLU())\n",
    "branch2.add(Dropout(0.5))\n",
    "branch2.add(GlobalMaxPooling1D())\n",
    "\n",
    "concatenated = Concatenate()([branch1.output, branch2.output])\n",
    "\n",
    "hid_layer = Dense(128, activation='relu')(concatenated)\n",
    "dropout = Dropout(0.3)(hid_layer)\n",
    "output_layer = Dense(4, activation='softmax')(dropout)\n",
    "\n",
    "model = Model(inputs=[branch1.input, branch2.input], outputs=output_layer)"
   ]
  },
  {
   "cell_type": "code",
   "execution_count": null,
   "metadata": {},
   "outputs": [],
   "source": [
    "# model = Sequential()     \n",
    "# model.add(Embedding(10000, 32, input_length=50))\n",
    "# model.add(Conv1D(64, 3, padding='same', activation='relu'))\n",
    "# model.add(BatchNormalization())\n",
    "# model.add(ReLU())\n",
    "# model.add(Dropout(.5))\n",
    "# model.add(GlobalMaxPooling1D(keepdims=True))\n",
    "# model.add(Conv1D(64, 3, padding='same', activation='relu'))\n",
    "# model.add(BatchNormalization())\n",
    "# model.add(ReLU())\n",
    "# model.add(Dropout(.5))\n",
    "# model.add(GlobalMaxPooling1D())\n",
    "# model.add(Dense(128, activation='relu'))\n",
    "# model.add(Dropout(.5))\n",
    "# model.add(Dense(6, activation='softmax'))"
   ]
  },
  {
   "cell_type": "markdown",
   "metadata": {},
   "source": [
    "### 3.2 Compile model"
   ]
  },
  {
   "cell_type": "code",
   "execution_count": null,
   "metadata": {
    "execution": {
     "iopub.execute_input": "2024-02-06T20:26:53.841191Z",
     "iopub.status.busy": "2024-02-06T20:26:53.840506Z",
     "iopub.status.idle": "2024-02-06T20:26:53.912410Z",
     "shell.execute_reply": "2024-02-06T20:26:53.911463Z",
     "shell.execute_reply.started": "2024-02-06T20:26:53.841155Z"
    }
   },
   "outputs": [],
   "source": [
    "model.compile(optimizer='adamax',\n",
    "              loss='categorical_crossentropy',\n",
    "              metrics=['accuracy', Precision(), Recall()])\n",
    "\n",
    "model.summary()"
   ]
  },
  {
   "cell_type": "code",
   "execution_count": null,
   "metadata": {},
   "outputs": [],
   "source": [
    "# GlobalMaxPooling1D??"
   ]
  },
  {
   "cell_type": "markdown",
   "metadata": {},
   "source": [
    "### 3.3 Traning the model"
   ]
  },
  {
   "cell_type": "code",
   "execution_count": null,
   "metadata": {
    "execution": {
     "iopub.execute_input": "2024-02-06T20:26:59.005469Z",
     "iopub.status.busy": "2024-02-06T20:26:59.004545Z",
     "iopub.status.idle": "2024-02-06T20:28:17.683373Z",
     "shell.execute_reply": "2024-02-06T20:28:17.682336Z",
     "shell.execute_reply.started": "2024-02-06T20:26:59.005434Z"
    }
   },
   "outputs": [],
   "source": [
    "batch_size = 256\n",
    "epochs = 25\n",
    "history = model.fit([tr_x, tr_x], tr_y, epochs=epochs, batch_size=batch_size,\n",
    "                    validation_data=([val_x, val_x], val_y))"
   ]
  },
  {
   "cell_type": "markdown",
   "metadata": {},
   "source": [
    "# 4. Evaluation and Visullize results"
   ]
  },
  {
   "cell_type": "markdown",
   "metadata": {},
   "source": [
    "### 4.1 Evaluate the model"
   ]
  },
  {
   "cell_type": "code",
   "execution_count": null,
   "metadata": {
    "execution": {
     "iopub.execute_input": "2024-02-06T20:31:13.941537Z",
     "iopub.status.busy": "2024-02-06T20:31:13.940598Z",
     "iopub.status.idle": "2024-02-06T20:31:14.794315Z",
     "shell.execute_reply": "2024-02-06T20:31:14.793405Z",
     "shell.execute_reply.started": "2024-02-06T20:31:13.941500Z"
    }
   },
   "outputs": [],
   "source": [
    "(loss, accuracy, percision, recall) = model.evaluate([tr_x, tr_x], tr_y)\n",
    "print(f'Loss: {round(loss, 2)}, Accuracy: {round(accuracy, 2)}, Precision: {round(percision, 2)}, Recall: {round(recall, 2)}')"
   ]
  },
  {
   "cell_type": "code",
   "execution_count": null,
   "metadata": {
    "execution": {
     "iopub.execute_input": "2024-02-06T20:31:22.830745Z",
     "iopub.status.busy": "2024-02-06T20:31:22.829624Z",
     "iopub.status.idle": "2024-02-06T20:31:23.002893Z",
     "shell.execute_reply": "2024-02-06T20:31:23.001880Z",
     "shell.execute_reply.started": "2024-02-06T20:31:22.830700Z"
    }
   },
   "outputs": [],
   "source": [
    "(loss, accuracy, percision, recall) = model.evaluate([ts_x, ts_x], ts_y)\n",
    "print(f'Loss: {round(loss, 2)}, Accuracy: {round(accuracy, 2)}, Precision: {round(percision, 2)}, Recall: {round(recall, 2)}')"
   ]
  },
  {
   "cell_type": "code",
   "execution_count": null,
   "metadata": {
    "execution": {
     "iopub.execute_input": "2024-02-06T20:28:25.377718Z",
     "iopub.status.busy": "2024-02-06T20:28:25.376903Z",
     "iopub.status.idle": "2024-02-06T20:28:25.384041Z",
     "shell.execute_reply": "2024-02-06T20:28:25.383045Z",
     "shell.execute_reply.started": "2024-02-06T20:28:25.377673Z"
    }
   },
   "outputs": [],
   "source": [
    "history.history.keys()"
   ]
  },
  {
   "cell_type": "markdown",
   "metadata": {},
   "source": [
    "### 4.2 Visullize results"
   ]
  },
  {
   "cell_type": "code",
   "execution_count": null,
   "metadata": {
    "execution": {
     "iopub.execute_input": "2024-02-06T20:28:30.406459Z",
     "iopub.status.busy": "2024-02-06T20:28:30.405685Z",
     "iopub.status.idle": "2024-02-06T20:28:31.939797Z",
     "shell.execute_reply": "2024-02-06T20:28:31.938768Z",
     "shell.execute_reply.started": "2024-02-06T20:28:30.406425Z"
    }
   },
   "outputs": [],
   "source": [
    "tr_acc = history.history['accuracy']\n",
    "tr_loss = history.history['loss']\n",
    "tr_per = history.history['precision']\n",
    "tr_recall = history.history['recall']\n",
    "val_acc = history.history['val_accuracy']\n",
    "val_loss = history.history['val_loss']\n",
    "val_per = history.history['val_precision']\n",
    "val_recall = history.history['val_recall']\n",
    "\n",
    "index_loss = np.argmin(val_loss)\n",
    "val_lowest = val_loss[index_loss]\n",
    "index_acc = np.argmax(val_acc)\n",
    "acc_highest = val_acc[index_acc]\n",
    "index_precision = np.argmax(val_per)\n",
    "per_highest = val_per[index_precision]\n",
    "index_recall = np.argmax(val_recall)\n",
    "recall_highest = val_recall[index_recall]\n",
    "\n",
    "\n",
    "Epochs = [i + 1 for i in range(len(tr_acc))]\n",
    "loss_label = f'Best epoch = {str(index_loss + 1)}'\n",
    "acc_label = f'Best epoch = {str(index_acc + 1)}'\n",
    "per_label = f'Best epoch = {str(index_precision + 1)}'\n",
    "recall_label = f'Best epoch = {str(index_recall + 1)}'\n",
    "\n",
    "\n",
    "plt.figure(figsize=(20, 12))\n",
    "plt.style.use('fivethirtyeight')\n",
    "\n",
    "\n",
    "plt.subplot(2, 2, 1)\n",
    "plt.plot(Epochs, tr_loss, 'r', label='Training loss')\n",
    "plt.plot(Epochs, val_loss, 'g', label='Validation loss')\n",
    "plt.scatter(index_loss + 1, val_lowest, s=150, c='blue', label=loss_label)\n",
    "plt.title('Training and Validation Loss')\n",
    "plt.xlabel('Epochs')\n",
    "plt.ylabel('Loss')\n",
    "plt.legend()\n",
    "plt.grid(True)\n",
    "\n",
    "plt.subplot(2, 2, 2)\n",
    "plt.plot(Epochs, tr_acc, 'r', label='Training Accuracy')\n",
    "plt.plot(Epochs, val_acc, 'g', label='Validation Accuracy')\n",
    "plt.scatter(index_acc + 1, acc_highest, s=150, c='blue', label=acc_label)\n",
    "plt.title('Training and Validation Accuracy')\n",
    "plt.xlabel('Epochs')\n",
    "plt.ylabel('Accuracy')\n",
    "plt.legend()\n",
    "plt.grid(True)\n",
    "\n",
    "plt.subplot(2, 2, 3)\n",
    "plt.plot(Epochs, tr_per, 'r', label='Precision')\n",
    "plt.plot(Epochs, val_per, 'g', label='Validation Precision')\n",
    "plt.scatter(index_precision + 1, per_highest, s=150, c='blue', label=per_label)\n",
    "plt.title('Precision and Validation Precision')\n",
    "plt.xlabel('Epochs')\n",
    "plt.ylabel('Precision')\n",
    "plt.legend()\n",
    "plt.grid(True)\n",
    "\n",
    "plt.subplot(2, 2, 4)\n",
    "plt.plot(Epochs, tr_recall, 'r', label='Recall')\n",
    "plt.plot(Epochs, val_recall, 'g', label='Validation Recall')\n",
    "plt.scatter(index_recall + 1, recall_highest, s=150, c='blue', label=recall_label)\n",
    "plt.title('Recall and Validation Recall')\n",
    "plt.xlabel('Epochs')\n",
    "plt.ylabel('Recall')\n",
    "plt.legend()\n",
    "plt.grid(True)\n",
    "\n",
    "plt.suptitle('Model Training Metrics Over Epochs', fontsize=16)\n",
    "plt.show()"
   ]
  },
  {
   "cell_type": "code",
   "execution_count": null,
   "metadata": {
    "execution": {
     "iopub.execute_input": "2024-02-06T20:32:50.353320Z",
     "iopub.status.busy": "2024-02-06T20:32:50.352490Z",
     "iopub.status.idle": "2024-02-06T20:32:50.366341Z",
     "shell.execute_reply": "2024-02-06T20:32:50.365181Z",
     "shell.execute_reply.started": "2024-02-06T20:32:50.353281Z"
    }
   },
   "outputs": [],
   "source": [
    "y_true=[]\n",
    "for i in range(len(ts_y)):\n",
    "    \n",
    "    x = np.argmax(ts_y[i]) \n",
    "    y_true.append(x)"
   ]
  },
  {
   "cell_type": "code",
   "execution_count": null,
   "metadata": {
    "execution": {
     "iopub.execute_input": "2024-02-06T20:32:50.568915Z",
     "iopub.status.busy": "2024-02-06T20:32:50.568046Z",
     "iopub.status.idle": "2024-02-06T20:32:50.716313Z",
     "shell.execute_reply": "2024-02-06T20:32:50.715314Z",
     "shell.execute_reply.started": "2024-02-06T20:32:50.568880Z"
    }
   },
   "outputs": [],
   "source": [
    "preds = model.predict([ts_x, ts_x])\n",
    "y_pred = np.argmax(preds, axis=1)\n",
    "y_pred"
   ]
  },
  {
   "cell_type": "code",
   "execution_count": null,
   "metadata": {
    "execution": {
     "iopub.execute_input": "2024-02-06T20:32:56.679677Z",
     "iopub.status.busy": "2024-02-06T20:32:56.679031Z",
     "iopub.status.idle": "2024-02-06T20:32:57.363322Z",
     "shell.execute_reply": "2024-02-06T20:32:57.362309Z",
     "shell.execute_reply.started": "2024-02-06T20:32:56.679633Z"
    }
   },
   "outputs": [],
   "source": [
    "plt.figure(figsize=(8,6))\n",
    "emotions = {0: 'anger', 1: 'fear', 2: 'joy', 3:'sadness'}\n",
    "emotions = list(emotions.values())\n",
    "cm = confusion_matrix(y_true, y_pred)\n",
    "sns.heatmap(cm, annot=True, fmt='d', cmap='Blues', xticklabels=emotions, yticklabels=emotions)"
   ]
  },
  {
   "cell_type": "code",
   "execution_count": null,
   "metadata": {
    "execution": {
     "iopub.execute_input": "2024-02-06T20:33:03.391568Z",
     "iopub.status.busy": "2024-02-06T20:33:03.391180Z",
     "iopub.status.idle": "2024-02-06T20:33:03.408145Z",
     "shell.execute_reply": "2024-02-06T20:33:03.407159Z",
     "shell.execute_reply.started": "2024-02-06T20:33:03.391536Z"
    }
   },
   "outputs": [],
   "source": [
    "clr = classification_report(y_true, y_pred)\n",
    "print(clr)"
   ]
  },
  {
   "cell_type": "markdown",
   "metadata": {},
   "source": [
    "# 5. Save model"
   ]
  },
  {
   "cell_type": "code",
   "execution_count": null,
   "metadata": {
    "execution": {
     "iopub.execute_input": "2024-02-06T20:28:50.222285Z",
     "iopub.status.busy": "2024-02-06T20:28:50.221228Z",
     "iopub.status.idle": "2024-02-06T20:28:50.299302Z",
     "shell.execute_reply": "2024-02-06T20:28:50.298295Z",
     "shell.execute_reply.started": "2024-02-06T20:28:50.222247Z"
    }
   },
   "outputs": [],
   "source": [
    "import pickle\n",
    "with open('tokenizer.pkl', 'wb') as tokenizer_file:\n",
    "    pickle.dump(tokenizer, tokenizer_file)\n",
    "\n",
    "model.save('nlp.h5')"
   ]
  },
  {
   "cell_type": "markdown",
   "metadata": {},
   "source": [
    "# 6. Prediction function"
   ]
  },
  {
   "cell_type": "code",
   "execution_count": null,
   "metadata": {
    "execution": {
     "iopub.execute_input": "2024-02-06T20:33:11.910078Z",
     "iopub.status.busy": "2024-02-06T20:33:11.909697Z",
     "iopub.status.idle": "2024-02-06T20:33:11.918851Z",
     "shell.execute_reply": "2024-02-06T20:33:11.917723Z",
     "shell.execute_reply.started": "2024-02-06T20:33:11.910049Z"
    }
   },
   "outputs": [],
   "source": [
    "def predict(text, model_path, token_path):\n",
    "    from tensorflow.keras.preprocessing.sequence import pad_sequences\n",
    "    import matplotlib.pyplot as plt\n",
    "    import pickle\n",
    "    from tensorflow.keras.models import load_model\n",
    "    \n",
    "    model = load_model(model_path)\n",
    "    \n",
    "    \n",
    "    with open(token_path, 'rb') as f:\n",
    "        tokenizer = pickle.load(f)\n",
    "    \n",
    "    sequences = tokenizer.texts_to_sequences([text])\n",
    "    x_new = pad_sequences(sequences, maxlen=50)\n",
    "    predictions = model.predict([x_new, x_new])\n",
    "    \n",
    "    emotions = {0: 'anger', 1: 'fear', 2: 'joy', 3:'sadness'}\n",
    "    \n",
    "    label = list(emotions.values())\n",
    "    probs = list(predictions[0])\n",
    "    labels = label\n",
    "    plt.subplot(1, 1, 1)\n",
    "    bars = plt.barh(labels, probs)\n",
    "    plt.xlabel('Probability', fontsize=15)\n",
    "    ax = plt.gca()\n",
    "    ax.bar_label(bars, fmt = '%.2f')\n",
    "    plt.show()"
   ]
  },
  {
   "cell_type": "code",
   "execution_count": null,
   "metadata": {
    "execution": {
     "iopub.execute_input": "2024-02-06T20:33:12.387872Z",
     "iopub.status.busy": "2024-02-06T20:33:12.386855Z",
     "iopub.status.idle": "2024-02-06T20:33:13.009146Z",
     "shell.execute_reply": "2024-02-06T20:33:13.008182Z",
     "shell.execute_reply.started": "2024-02-06T20:33:12.387836Z"
    }
   },
   "outputs": [],
   "source": [
    "txt = 'I am very happy to finish this project'\n",
    "predict(txt, 'nlp.h5', 'tokenizer.pkl')"
   ]
  },
  {
   "cell_type": "code",
   "execution_count": null,
   "metadata": {
    "execution": {
     "iopub.execute_input": "2024-02-06T20:33:15.596137Z",
     "iopub.status.busy": "2024-02-06T20:33:15.595265Z",
     "iopub.status.idle": "2024-02-06T20:33:16.286880Z",
     "shell.execute_reply": "2024-02-06T20:33:16.285883Z",
     "shell.execute_reply.started": "2024-02-06T20:33:15.596100Z"
    }
   },
   "outputs": [],
   "source": [
    "txt = 'I am very sad'\n",
    "predict(txt, 'nlp.h5', 'tokenizer.pkl')"
   ]
  },
  {
   "cell_type": "code",
   "execution_count": null,
   "metadata": {
    "execution": {
     "iopub.execute_input": "2024-02-06T20:28:53.581063Z",
     "iopub.status.busy": "2024-02-06T20:28:53.580736Z",
     "iopub.status.idle": "2024-02-06T20:28:54.305789Z",
     "shell.execute_reply": "2024-02-06T20:28:54.304808Z",
     "shell.execute_reply.started": "2024-02-06T20:28:53.581036Z"
    }
   },
   "outputs": [],
   "source": [
    "txt = 'Ahhhhhhhhhhhh, I wanna kill myself.'\n",
    "predict(txt, 'nlp.h5', 'tokenizer.pkl')"
   ]
  },
  {
   "cell_type": "code",
   "execution_count": null,
   "metadata": {
    "execution": {
     "iopub.execute_input": "2024-02-06T20:33:48.423581Z",
     "iopub.status.busy": "2024-02-06T20:33:48.422667Z",
     "iopub.status.idle": "2024-02-06T20:33:49.048145Z",
     "shell.execute_reply": "2024-02-06T20:33:49.047159Z",
     "shell.execute_reply.started": "2024-02-06T20:33:48.423538Z"
    }
   },
   "outputs": [],
   "source": [
    "txt = 'I think, i am afraid.'\n",
    "predict(txt, 'nlp.h5', 'tokenizer.pkl')"
   ]
  },
  {
   "cell_type": "code",
   "execution_count": null,
   "metadata": {},
   "outputs": [],
   "source": []
  }
 ],
 "metadata": {
  "kaggle": {
   "accelerator": "tpu1vmV38",
   "dataSources": [
    {
     "datasetId": 605165,
     "sourceId": 1085454,
     "sourceType": "datasetVersion"
    }
   ],
   "dockerImageVersionId": 30626,
   "isGpuEnabled": false,
   "isInternetEnabled": true,
   "language": "python",
   "sourceType": "notebook"
  },
  "kernelspec": {
   "display_name": "Python 3 (ipykernel)",
   "language": "python",
   "name": "python3"
  },
  "language_info": {
   "codemirror_mode": {
    "name": "ipython",
    "version": 3
   },
   "file_extension": ".py",
   "mimetype": "text/x-python",
   "name": "python",
   "nbconvert_exporter": "python",
   "pygments_lexer": "ipython3",
   "version": "3.10.9"
  }
 },
 "nbformat": 4,
 "nbformat_minor": 4
}
