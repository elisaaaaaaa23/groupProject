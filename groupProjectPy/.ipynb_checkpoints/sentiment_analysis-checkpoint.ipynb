{
 "cells": [
  {
   "cell_type": "code",
   "execution_count": 1,
   "id": "2501f05a",
   "metadata": {
    "execution": {
     "iopub.execute_input": "2023-11-26T15:11:50.764566Z",
     "iopub.status.busy": "2023-11-26T15:11:50.764070Z",
     "iopub.status.idle": "2023-11-26T15:11:51.215779Z",
     "shell.execute_reply": "2023-11-26T15:11:51.214212Z"
    },
    "papermill": {
     "duration": 0.462274,
     "end_time": "2023-11-26T15:11:51.218808",
     "exception": false,
     "start_time": "2023-11-26T15:11:50.756534",
     "status": "completed"
    },
    "tags": []
   },
   "outputs": [],
   "source": [
    "import pandas as pd\n",
    "import pandas as pd\n",
    "import numpy as np\n",
    "import matplotlib.pyplot as plt\n",
    "import seaborn as sns\n",
    "from sklearn.metrics import classification_report, confusion_matrix\n",
    "from tensorflow.keras.preprocessing.text import Tokenizer\n",
    "from tensorflow.keras.optimizers import Adamax\n",
    "from tensorflow.keras.metrics import Precision, Recall\n",
    "from tensorflow.keras.layers import Dense, ReLU\n",
    "from tensorflow.keras.layers import Embedding, BatchNormalization, Concatenate\n",
    "from tensorflow.keras.layers import Conv1D, GlobalMaxPooling1D, Dropout\n",
    "from tensorflow.keras.models import Sequential, Model\n",
    "from sklearn.preprocessing import LabelEncoder\n",
    "from tensorflow.keras.preprocessing.sequence import pad_sequences\n",
    "from keras.utils import to_categorical\n",
    "import pandas as pd\n",
    "from matplotlib import pyplot as plt\n",
    "import numpy as np\n",
    "import seaborn as sns\n",
    "from sklearn.utils import shuffle\n",
    "import matplotlib.pyplot as plt\n",
    "from sklearn.cluster import DBSCAN\n",
    "from sklearn import preprocessing\n",
    "from sklearn.model_selection import train_test_split\n",
    "from sklearn import metrics\n",
    "from keras.models import Sequential\n",
    "import keras\n",
    "from keras.layers import Dense\n",
    "from keras.callbacks import EarlyStopping\n",
    "import random\n",
    "from sklearn.ensemble import RandomForestRegressor\n",
    "from keras import regularizers\n",
    "import keras_tuner as kt\n",
    "from keras.layers import BatchNormalization \n",
    "from sklearn import svm, datasets\n",
    "from sklearn.preprocessing import label_binarize\n",
    "from sklearn.metrics import roc_curve, auc\n",
    "from sklearn.multiclass import OneVsRestClassifier\n",
    "from itertools import cycle"
   ]
  },
  {
   "cell_type": "code",
   "execution_count": 2,
   "id": "ff65d72a",
   "metadata": {
    "execution": {
     "iopub.execute_input": "2023-11-26T15:11:51.235369Z",
     "iopub.status.busy": "2023-11-26T15:11:51.234793Z",
     "iopub.status.idle": "2023-11-26T15:11:51.241793Z",
     "shell.execute_reply": "2023-11-26T15:11:51.240910Z"
    },
    "papermill": {
     "duration": 0.017022,
     "end_time": "2023-11-26T15:11:51.244169",
     "exception": false,
     "start_time": "2023-11-26T15:11:51.227147",
     "status": "completed"
    },
    "tags": []
   },
   "outputs": [],
   "source": [
    "emotions_dict = {\n",
    "        \"sadness\" : 0,\n",
    "        \"anger\": 1,\n",
    "        \"fear\": 2,\n",
    "        \"joy\":3,\n",
    "    }\n",
    "\n"
   ]
  },
  {
   "cell_type": "code",
   "execution_count": 3,
   "id": "43e4bd2a",
   "metadata": {
    "_cell_guid": "b1076dfc-b9ad-4769-8c92-a6c4dae69d19",
    "_uuid": "8f2839f25d086af736a60e9eeb907d3b93b6e0e5",
    "execution": {
     "iopub.execute_input": "2023-11-26T15:11:51.258524Z",
     "iopub.status.busy": "2023-11-26T15:11:51.257556Z",
     "iopub.status.idle": "2023-11-26T15:11:51.273739Z",
     "shell.execute_reply": "2023-11-26T15:11:51.272400Z"
    },
    "papermill": {
     "duration": 0.026751,
     "end_time": "2023-11-26T15:11:51.276642",
     "exception": false,
     "start_time": "2023-11-26T15:11:51.249891",
     "status": "completed"
    },
    "tags": []
   },
   "outputs": [],
   "source": [
    "df_train = pd.read_csv(\"emotions/train.txt\",\n",
    "                 delimiter=';', header=None, names=['sentence','emotion'])\n",
    "df_train = df_train[df_train.emotion != \"love\"]\n",
    "df_train = df_train[df_train.emotion != \"surprise\"]\n",
    "\n",
    "df_test = pd.read_csv(\"emotions/test.txt\",\n",
    "                 delimiter=';', header=None, names=['sentence','emotion'])\n",
    "df_test = df_test[df_test.emotion != \"love\"]\n",
    "df_test = df_test[df_test.emotion != \"surprise\"]\n",
    "\n",
    "df_val = pd.read_csv(\"emotions/val.txt\",\n",
    "                 delimiter=';', header=None, names=['sentence','emotion'])\n",
    "df_val = df_val[df_val.emotion != \"love\"]\n",
    "df_val = df_val[df_val.emotion != \"surprise\"]"
   ]
  },
  {
   "cell_type": "code",
   "execution_count": 4,
   "id": "20efe041",
   "metadata": {
    "execution": {
     "iopub.execute_input": "2023-11-26T15:11:51.289577Z",
     "iopub.status.busy": "2023-11-26T15:11:51.289076Z",
     "iopub.status.idle": "2023-11-26T15:11:51.421417Z",
     "shell.execute_reply": "2023-11-26T15:11:51.420427Z"
    },
    "papermill": {
     "duration": 0.141715,
     "end_time": "2023-11-26T15:11:51.423879",
     "exception": false,
     "start_time": "2023-11-26T15:11:51.282164",
     "status": "completed"
    },
    "tags": []
   },
   "outputs": [
    {
     "data": {
      "text/html": [
       "<div>\n",
       "<style scoped>\n",
       "    .dataframe tbody tr th:only-of-type {\n",
       "        vertical-align: middle;\n",
       "    }\n",
       "\n",
       "    .dataframe tbody tr th {\n",
       "        vertical-align: top;\n",
       "    }\n",
       "\n",
       "    .dataframe thead th {\n",
       "        text-align: right;\n",
       "    }\n",
       "</style>\n",
       "<table border=\"1\" class=\"dataframe\">\n",
       "  <thead>\n",
       "    <tr style=\"text-align: right;\">\n",
       "      <th></th>\n",
       "      <th>sentence</th>\n",
       "      <th>emotion</th>\n",
       "    </tr>\n",
       "  </thead>\n",
       "  <tbody>\n",
       "    <tr>\n",
       "      <th>0</th>\n",
       "      <td>i didnt feel humiliated</td>\n",
       "      <td>0</td>\n",
       "    </tr>\n",
       "    <tr>\n",
       "      <th>1</th>\n",
       "      <td>i can go from feeling so hopeless to so damned...</td>\n",
       "      <td>0</td>\n",
       "    </tr>\n",
       "    <tr>\n",
       "      <th>2</th>\n",
       "      <td>im grabbing a minute to post i feel greedy wrong</td>\n",
       "      <td>1</td>\n",
       "    </tr>\n",
       "    <tr>\n",
       "      <th>4</th>\n",
       "      <td>i am feeling grouchy</td>\n",
       "      <td>1</td>\n",
       "    </tr>\n",
       "    <tr>\n",
       "      <th>5</th>\n",
       "      <td>ive been feeling a little burdened lately wasn...</td>\n",
       "      <td>0</td>\n",
       "    </tr>\n",
       "  </tbody>\n",
       "</table>\n",
       "</div>"
      ],
      "text/plain": [
       "                                            sentence  emotion\n",
       "0                            i didnt feel humiliated        0\n",
       "1  i can go from feeling so hopeless to so damned...        0\n",
       "2   im grabbing a minute to post i feel greedy wrong        1\n",
       "4                               i am feeling grouchy        1\n",
       "5  ive been feeling a little burdened lately wasn...        0"
      ]
     },
     "execution_count": 4,
     "metadata": {},
     "output_type": "execute_result"
    }
   ],
   "source": [
    "df_train[\"emotion\"] = df_train[\"emotion\"].map(emotions_dict)\n",
    "df_test[\"emotion\"] = df_test[\"emotion\"].map(emotions_dict)\n",
    "df_val[\"emotion\"] = df_val[\"emotion\"].map(emotions_dict)\n",
    "\n",
    "df_train.head()"
   ]
  },
  {
   "cell_type": "code",
   "execution_count": 5,
   "id": "ac02da1a",
   "metadata": {},
   "outputs": [
    {
     "data": {
      "text/html": [
       "<div>\n",
       "<style scoped>\n",
       "    .dataframe tbody tr th:only-of-type {\n",
       "        vertical-align: middle;\n",
       "    }\n",
       "\n",
       "    .dataframe tbody tr th {\n",
       "        vertical-align: top;\n",
       "    }\n",
       "\n",
       "    .dataframe thead th {\n",
       "        text-align: right;\n",
       "    }\n",
       "</style>\n",
       "<table border=\"1\" class=\"dataframe\">\n",
       "  <thead>\n",
       "    <tr style=\"text-align: right;\">\n",
       "      <th></th>\n",
       "      <th>sentence</th>\n",
       "      <th>emotion</th>\n",
       "    </tr>\n",
       "  </thead>\n",
       "  <tbody>\n",
       "    <tr>\n",
       "      <th>0</th>\n",
       "      <td>i didnt feel humiliated</td>\n",
       "      <td>0</td>\n",
       "    </tr>\n",
       "    <tr>\n",
       "      <th>1</th>\n",
       "      <td>i go feeling hopeless damned hopeful around so...</td>\n",
       "      <td>0</td>\n",
       "    </tr>\n",
       "    <tr>\n",
       "      <th>2</th>\n",
       "      <td>im grabbing minute post feel greedy wrong</td>\n",
       "      <td>1</td>\n",
       "    </tr>\n",
       "    <tr>\n",
       "      <th>4</th>\n",
       "      <td>i feeling grouchy</td>\n",
       "      <td>1</td>\n",
       "    </tr>\n",
       "    <tr>\n",
       "      <th>5</th>\n",
       "      <td>ive feeling little burdened lately wasnt sure was</td>\n",
       "      <td>0</td>\n",
       "    </tr>\n",
       "  </tbody>\n",
       "</table>\n",
       "</div>"
      ],
      "text/plain": [
       "                                            sentence  emotion\n",
       "0                            i didnt feel humiliated        0\n",
       "1  i go feeling hopeless damned hopeful around so...        0\n",
       "2          im grabbing minute post feel greedy wrong        1\n",
       "4                                  i feeling grouchy        1\n",
       "5  ive feeling little burdened lately wasnt sure was        0"
      ]
     },
     "execution_count": 5,
     "metadata": {},
     "output_type": "execute_result"
    }
   ],
   "source": [
    "from nltk.corpus import stopwords\n",
    "stop = stopwords.words('english')\n",
    "for word in stop:  \n",
    "    df_train['sentence'] = df_train['sentence'].str.replace(' '+word+' ', ' ')\n",
    "df_train.head()"
   ]
  },
  {
   "cell_type": "code",
   "execution_count": 7,
   "id": "242965b5",
   "metadata": {
    "execution": {
     "iopub.execute_input": "2023-11-26T15:11:51.439307Z",
     "iopub.status.busy": "2023-11-26T15:11:51.438919Z",
     "iopub.status.idle": "2023-11-26T15:12:07.352900Z",
     "shell.execute_reply": "2023-11-26T15:12:07.351569Z"
    },
    "papermill": {
     "duration": 15.925085,
     "end_time": "2023-11-26T15:12:07.355741",
     "exception": false,
     "start_time": "2023-11-26T15:11:51.430656",
     "status": "completed"
    },
    "tags": []
   },
   "outputs": [
    {
     "name": "stdout",
     "output_type": "stream",
     "text": [
      "(14124, 50)\n",
      "*****************************************\n",
      "0        0\n",
      "1        0\n",
      "2        1\n",
      "4        1\n",
      "5        0\n",
      "        ..\n",
      "15995    0\n",
      "15996    0\n",
      "15997    3\n",
      "15998    1\n",
      "15999    0\n",
      "Name: emotion, Length: 14124, dtype: int64\n"
     ]
    }
   ],
   "source": [
    "from keras.preprocessing.text import Tokenizer\n",
    "from tensorflow.keras.preprocessing.sequence import pad_sequences\n",
    "from keras.utils import to_categorical\n",
    "\n",
    "tokenizer = Tokenizer(num_words=10000)\n",
    "all_sentences = pd.concat([df_train[\"sentence\"], df_test[\"sentence\"], df_val[\"sentence\"]])\n",
    "tokenizer.fit_on_texts(all_sentences)\n",
    "\n",
    "def sequenizer(df):\n",
    "    sentences = df[\"sentence\"]\n",
    "    emotions = df[\"emotion\"]\n",
    "    \n",
    "#     tokenizer.fit_on_texts(sentences) \n",
    "    sequences = tokenizer.texts_to_sequences(sentences)\n",
    "    sentences = pad_sequences(sequences, maxlen=50) \n",
    "    #emotions = to_categorical(emotions)\n",
    "    return sentences, emotions\n",
    "x_train,y_train = sequenizer(df_train)\n",
    "x_test,y_test = sequenizer(df_test)\n",
    "x_val,y_val = sequenizer(df_val)\n",
    "print(x_train.shape)\n",
    "print(\"*****************************************\")\n",
    "print(y_train)"
   ]
  },
  {
   "cell_type": "code",
   "execution_count": null,
   "id": "f8a85be9",
   "metadata": {
    "execution": {
     "iopub.execute_input": "2023-11-26T15:12:07.371147Z",
     "iopub.status.busy": "2023-11-26T15:12:07.370381Z",
     "iopub.status.idle": "2023-11-26T15:12:08.670505Z",
     "shell.execute_reply": "2023-11-26T15:12:08.669145Z"
    },
    "papermill": {
     "duration": 1.310652,
     "end_time": "2023-11-26T15:12:08.673107",
     "exception": false,
     "start_time": "2023-11-26T15:12:07.362455",
     "status": "completed"
    },
    "tags": []
   },
   "outputs": [],
   "source": [
    "# from keras.models import Sequential\n",
    "# from keras.layers import Embedding, LSTM, Dense, Flatten\n",
    "# from keras.optimizers import Adam\n",
    "\n",
    "# # Define the model architecture\n",
    "# def build_model(max_sequence_length, vocab_size, embedding_dim):\n",
    "#     model = Sequential()\n",
    "#     model.add(Embedding(input_dim=vocab_size, output_dim=embedding_dim, input_length=max_sequence_length))\n",
    "#     model.add(LSTM(units=128, dropout=0.2, recurrent_dropout=0.2))\n",
    "#     model.add(Dense(units=6, activation='softmax'))  # Assuming 6 classes for emotions\n",
    "#     return model\n",
    "\n",
    "# # Set hyperparameters\n",
    "# embedding_dim = 100\n",
    "# max_sequence_length = 50  # maxlen specified in sequenizer function\n",
    "# vocab_size = 10000  # num_words specified in Tokenizer\n",
    "\n",
    "# # Build the model\n",
    "# model = build_model(max_sequence_length, vocab_size, embedding_dim)\n",
    "\n",
    "# # Compile the model\n",
    "# model.compile(loss='sparse_categorical_crossentropy', optimizer=Adam(), metrics=['accuracy'])\n",
    "\n",
    "# # Train the model\n",
    "# model.fit(x_train, y_train, validation_data=(x_val, y_val), epochs=10, batch_size=64)\n",
    "\n",
    "# # Evaluate the model on test data\n",
    "# loss, accuracy = model.evaluate(x_test, y_test)\n",
    "# print(\"Test Loss:\", loss)\n",
    "# print(\"Test Accuracy:\", accuracy)\n",
    "\n"
   ]
  },
  {
   "cell_type": "code",
   "execution_count": 12,
   "id": "f5763775",
   "metadata": {
    "execution": {
     "iopub.execute_input": "2023-11-26T15:17:38.528634Z",
     "iopub.status.busy": "2023-11-26T15:17:38.527901Z",
     "iopub.status.idle": "2023-11-26T15:17:38.619124Z",
     "shell.execute_reply": "2023-11-26T15:17:38.617988Z"
    },
    "papermill": {
     "duration": 0.519897,
     "end_time": "2023-11-26T15:17:38.621615",
     "exception": false,
     "start_time": "2023-11-26T15:17:38.101718",
     "status": "completed"
    },
    "tags": []
   },
   "outputs": [],
   "source": [
    "from keras.models import Sequential\n",
    "from keras.layers import Embedding, LSTM, Dense, Flatten, BatchNormalization\n",
    "# from keras.optimizers import Adam\n",
    "# from kerastuner.tuners import Hyperband\n",
    "# from kerastuner.engine.hyperparameters import HyperParameters\n",
    "# from tensorflow.keras import regularizers\n",
    "\n",
    "# # Define the model builder function\n",
    "def model_builder(hp):\n",
    "    model = Sequential()\n",
    "    model.add(Embedding(input_dim=10000, output_dim=16, input_length=50))\n",
    "\n",
    "    model.add(Flatten(input_shape=(4,)))\n",
    "    hp_activation = hp.Choice('activation', values=['LeakyReLU', 'gelu',\"Relu\",\"tanh\"])\n",
    "    hp_layer_1 = hp.Int('layer_1', min_value=0, max_value=512, step=16)\n",
    "    hp_layer_2 = hp.Int('layer_2', min_value=0, max_value=512, step=16)\n",
    "    hp_layer_3 = hp.Int('layer_3', min_value=0, max_value=512, step=16)\n",
    "\n",
    "    hp_learning_rate = hp.Choice('learning_rate', values=[0.01, 0.001, 0.0001])\n",
    "    model.add(BatchNormalization())\n",
    "\n",
    "    model.add(Dense(units=hp_layer_1, activation=hp_activation, kernel_regularizer=regularizers.L1L2(l1=1e-5, l2=1e-4),\n",
    "                    bias_regularizer=regularizers.L2(1e-4),\n",
    "                    activity_regularizer=regularizers.L2(1e-5)))\n",
    "\n",
    "    model.add(Dense(units=hp_layer_2, activation=hp_activation, kernel_regularizer=regularizers.L1L2(l1=1e-5, l2=1e-4),\n",
    "                    bias_regularizer=regularizers.L2(1e-4),\n",
    "                    activity_regularizer=regularizers.L2(1e-5)))\n",
    "\n",
    "    model.add(Dense(units=hp_layer_3, activation=hp_activation, kernel_regularizer=regularizers.L1L2(l1=1e-5, l2=1e-4),\n",
    "                    bias_regularizer=regularizers.L2(1e-4),\n",
    "                    activity_regularizer=regularizers.L2(1e-5)))\n",
    "\n",
    "    model.add(BatchNormalization())\n",
    "\n",
    "    model.add(Dense(4, activation='softmax'))\n",
    "    model.compile(optimizer=keras.optimizers.Adam(learning_rate=hp_learning_rate),\n",
    "                  loss='sparse_categorical_crossentropy',\n",
    "                  metrics=['accuracy'])\n",
    "    return model\n",
    "# from keras.layers import Conv1D, MaxPooling1D, GlobalAveragePooling1D\n",
    "\n",
    "# def model_builder(hp):\n",
    "#     model = Sequential()\n",
    "#     model.add(Embedding(input_dim=10000, output_dim=16, input_length=50))\n",
    "    \n",
    "#     # Convolutional layers\n",
    "#     for i in range(hp.Int('num_conv_layers', 1, 3)):\n",
    "#         model.add(Conv1D(filters=hp.Int(f'conv_{i+1}_filters', 32, 256, step=32),\n",
    "#                          kernel_size=hp.Int(f'conv_{i+1}_kernel_size', 3, 9, step=2),\n",
    "#                          activation=hp.Choice(f'conv_{i+1}_activation', ['relu', 'tanh']),\n",
    "#                          padding='same'))\n",
    "#         model.add(MaxPooling1D(pool_size=2))\n",
    "    \n",
    "#     # Global pooling layer\n",
    "#     hp_global_pooling = hp.Choice('global_pooling', ['average', 'max'])\n",
    "#     if hp_global_pooling == 'average':\n",
    "#         model.add(GlobalAveragePooling1D())\n",
    "#     else:\n",
    "#         model.add(GlobalMaxPooling1D())\n",
    "    \n",
    "#     # Dense layer\n",
    "#     model.add(Dense(units=hp.Int('dense_units', 32, 512, step=32),\n",
    "#                     activation=hp.Choice('dense_activation', ['relu', 'tanh'])))\n",
    "    \n",
    "#     # Output layer\n",
    "#     model.add(Dense(4, activation='softmax'))\n",
    "    \n",
    "#     # Compile the model\n",
    "#     model.compile(optimizer=keras.optimizers.Adam(learning_rate=hp.Choice('learning_rate', values=[0.01, 0.001, 0.0001])),\n",
    "#                   loss='sparse_categorical_crossentropy',\n",
    "#                   metrics=['accuracy'])\n",
    "    \n",
    "#     return model\n",
    "\n"
   ]
  },
  {
   "cell_type": "code",
   "execution_count": 13,
   "id": "2e8c5cb9",
   "metadata": {},
   "outputs": [],
   "source": [
    "objective_value = 'val_accuracy'\n",
    "monitor_value = 'val_loss'\n",
    "trials = 15\n",
    "restore_flag = True\n",
    "patience_value = 3\n",
    "validation_value = 0.21\n",
    "project = 'poo'\n",
    "overwrite_bool = True\n",
    "    \n",
    "tuner = kt.RandomSearch(\n",
    "    model_builder,\n",
    "    objective = objective_value,\n",
    "    max_trials=trials,\n",
    "    directory='dir',\n",
    "    overwrite=True,\n",
    "    project_name=project\n",
    ")\n",
    "\n"
   ]
  },
  {
   "cell_type": "code",
   "execution_count": 14,
   "id": "a8d810c4",
   "metadata": {},
   "outputs": [],
   "source": [
    "es = keras.callbacks.EarlyStopping(\n",
    "                                   monitor = monitor_value,\n",
    "                                   mode='auto',\n",
    "                                   patience=patience_value, \n",
    "                                   restore_best_weights = restore_flag)"
   ]
  },
  {
   "cell_type": "code",
   "execution_count": 15,
   "id": "f89320dd",
   "metadata": {},
   "outputs": [
    {
     "name": "stdout",
     "output_type": "stream",
     "text": [
      "Trial 15 Complete [00h 00m 22s]\n",
      "val_accuracy: 0.40436530113220215\n",
      "\n",
      "Best val_accuracy So Far: 0.7800114750862122\n",
      "Total elapsed time: 00h 09m 05s\n"
     ]
    }
   ],
   "source": [
    "tuner.search(x_train, y_train, epochs=15,\n",
    "             validation_data=(x_val, y_val),\n",
    "             callbacks=[es])"
   ]
  },
  {
   "cell_type": "code",
   "execution_count": 16,
   "id": "ed697e56",
   "metadata": {},
   "outputs": [
    {
     "name": "stdout",
     "output_type": "stream",
     "text": [
      "<keras.src.engine.sequential.Sequential object at 0x000002353394BA60>\n",
      "Epoch 1/100\n",
      "442/442 [==============================] - 9s 15ms/step - loss: 1.2829 - accuracy: 0.5432 - val_loss: 1.0016 - val_accuracy: 0.6967\n",
      "Epoch 2/100\n",
      "442/442 [==============================] - 7s 15ms/step - loss: 0.5039 - accuracy: 0.8956 - val_loss: 0.7834 - val_accuracy: 0.7961\n",
      "Epoch 3/100\n",
      "442/442 [==============================] - 7s 16ms/step - loss: 0.3200 - accuracy: 0.9528 - val_loss: 0.9702 - val_accuracy: 0.7748\n",
      "Epoch 4/100\n",
      "442/442 [==============================] - 7s 16ms/step - loss: 0.2643 - accuracy: 0.9637 - val_loss: 0.9334 - val_accuracy: 0.7955\n",
      "Epoch 5/100\n",
      "442/442 [==============================] - 7s 16ms/step - loss: 0.2395 - accuracy: 0.9656 - val_loss: 1.1430 - val_accuracy: 0.7651\n"
     ]
    }
   ],
   "source": [
    "hyper_parameters = tuner.get_best_hyperparameters(num_trials = 1)[0]\n",
    "model = tuner.hypermodel.build(hyper_parameters)\n",
    "\n",
    "print(model)\n",
    "history = model.fit(x_train, y_train, epochs = 100, \n",
    "                    validation_data = (x_val,y_val),\n",
    "                    shuffle = True,\n",
    "                    callbacks = [es])\n",
    "model.save(\"hi.keras\")"
   ]
  },
  {
   "cell_type": "code",
   "execution_count": 17,
   "id": "85976856",
   "metadata": {},
   "outputs": [
    {
     "name": "stdout",
     "output_type": "stream",
     "text": [
      "55/55 [==============================] - 0s 5ms/step - loss: 0.7834 - accuracy: 0.7961\n"
     ]
    },
    {
     "data": {
      "text/plain": [
       "[0.7833980321884155, 0.7960941791534424]"
      ]
     },
     "execution_count": 17,
     "metadata": {},
     "output_type": "execute_result"
    }
   ],
   "source": [
    "model.evaluate(x_val,y_val)"
   ]
  },
  {
   "cell_type": "code",
   "execution_count": 18,
   "id": "6f4f595d",
   "metadata": {},
   "outputs": [
    {
     "name": "stdout",
     "output_type": "stream",
     "text": [
      "dict_keys(['loss', 'accuracy', 'val_loss', 'val_accuracy'])\n"
     ]
    },
    {
     "data": {
      "image/png": "[encoded data removed]",
      "text/plain": [
       "<Figure size 640x480 with 1 Axes>"
      ]
     },
     "metadata": {},
     "output_type": "display_data"
    },
    {
     "data": {
      "image/png": "[encoded data removed]",
      "text/plain": [
       "<Figure size 640x480 with 1 Axes>"
      ]
     },
     "metadata": {},
     "output_type": "display_data"
    }
   ],
   "source": [
    "history_dict = history.history\n",
    "print(history_dict.keys())\n",
    "\n",
    "acc = history_dict['accuracy']\n",
    "val_acc = history_dict['val_accuracy']\n",
    "loss = history_dict['loss']\n",
    "val_loss = history_dict['val_loss']\n",
    "epochs = range(1, len(acc) + 1)\n",
    "\n",
    "plt.plot(epochs, val_acc, label='Validation accuracy', color='blue')\n",
    "plt.plot(epochs, acc, label='Training accuracy',color='orange')\n",
    "plt.title('Training and validation accuracy')\n",
    "plt.xlabel('Epochs')\n",
    "plt.ylabel('Accuracy')\n",
    "plt.legend()\n",
    "plt.show()\n",
    "\n",
    "plt.plot(epochs, loss, label='Loss', color = 'red')\n",
    "plt.plot(epochs, val_loss, label='Validation Loss', color = 'purple')\n",
    "plt.title('Training and validation loss')\n",
    "plt.xlabel('Epochs')\n",
    "plt.ylabel('Loss')\n",
    "plt.legend()\n",
    "plt.show()"
   ]
  },
  {
   "cell_type": "code",
   "execution_count": 21,
   "id": "3cb8fb09",
   "metadata": {},
   "outputs": [],
   "source": [
    "def tokenize_and_pad(text):\n",
    "    # Tokenize the input text\n",
    "    tokenized_text = tokenizer.texts_to_sequences([text])\n",
    "    \n",
    "    # Pad the sequences to the maximum sequence length\n",
    "    padded_sequences = pad_sequences(tokenized_text, maxlen=50)\n",
    "    \n",
    "    return padded_sequences\n",
    "x = tokenize_and_pad(\"today was a bit boring, find me something nice\")"
   ]
  },
  {
   "cell_type": "code",
   "execution_count": 22,
   "id": "558881de",
   "metadata": {},
   "outputs": [
    {
     "name": "stdout",
     "output_type": "stream",
     "text": [
      "1/1 [==============================] - 0s 23ms/step\n",
      "[0]\n"
     ]
    }
   ],
   "source": [
    "predictions = model.predict(x)\n",
    "\n",
    "# 'predictions' will contain the predicted probabilities for each class\n",
    "# To get the predicted class labels, you can use argmax\n",
    "predicted_labels = predictions.argmax(axis=1)\n",
    "print(predicted_labels)"
   ]
  },
  {
   "cell_type": "code",
   "execution_count": null,
   "id": "bd8ffc94",
   "metadata": {},
   "outputs": [],
   "source": []
  }
 ],
 "metadata": {
  "kaggle": {
   "accelerator": "none",
   "dataSources": [
    {
     "datasetId": 605165,
     "sourceId": 1085454,
     "sourceType": "datasetVersion"
    }
   ],
   "dockerImageVersionId": 30587,
   "isGpuEnabled": false,
   "isInternetEnabled": true,
   "language": "python",
   "sourceType": "notebook"
  },
  "kernelspec": {
   "display_name": "Python 3 (ipykernel)",
   "language": "python",
   "name": "python3"
  },
  "language_info": {
   "codemirror_mode": {
    "name": "ipython",
    "version": 3
   },
   "file_extension": ".py",
   "mimetype": "text/x-python",
   "name": "python",
   "nbconvert_exporter": "python",
   "pygments_lexer": "ipython3",
   "version": "3.10.9"
  },
  "papermill": {
   "default_parameters": {},
   "duration": 353.815726,
   "end_time": "2023-11-26T15:17:40.870053",
   "environment_variables": {},
   "exception": null,
   "input_path": "__notebook__.ipynb",
   "output_path": "__notebook__.ipynb",
   "parameters": {},
   "start_time": "2023-11-26T15:11:47.054327",
   "version": "2.4.0"
  }
 },
 "nbformat": 4,
 "nbformat_minor": 5
}
